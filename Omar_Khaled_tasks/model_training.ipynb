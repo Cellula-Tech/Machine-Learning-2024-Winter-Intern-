{
 "cells": [
  {
   "cell_type": "markdown",
   "id": "0b84a5c3-985a-4b8f-b5ad-efe3612e7a02",
   "metadata": {},
   "source": [
    "# Import Libraries"
   ]
  },
  {
   "cell_type": "code",
   "execution_count": 1,
   "id": "08f2dc24-ac77-416a-9f2b-918035ab4093",
   "metadata": {},
   "outputs": [],
   "source": [
    "import pandas as pd\n",
    "import numpy as np\n",
    "from sklearn.preprocessing import OneHotEncoder, StandardScaler\n",
    "from sklearn.model_selection import train_test_split, cross_val_score\n",
    "from sklearn.linear_model import LogisticRegression\n",
    "from sklearn.neighbors import KNeighborsClassifier\n",
    "from sklearn.metrics import accuracy_score, confusion_matrix, classification_report\n",
    "from sklearn.ensemble import RandomForestClassifier\n",
    "import pickle"
   ]
  },
  {
   "cell_type": "markdown",
   "id": "ea988703-562d-443e-8387-85ef1d506f86",
   "metadata": {},
   "source": [
    "# Reading Data set"
   ]
  },
  {
   "cell_type": "code",
   "execution_count": 2,
   "id": "2afa7f10-efb2-4a89-ac05-5f126aed644d",
   "metadata": {},
   "outputs": [],
   "source": [
    "df = pd.read_csv(\"./first_project.csv\")"
   ]
  },
  {
   "cell_type": "code",
   "execution_count": 3,
   "id": "baeb6707-217c-4651-9e05-d82bd03fe954",
   "metadata": {},
   "outputs": [
    {
     "name": "stdout",
     "output_type": "stream",
     "text": [
      "<class 'pandas.core.frame.DataFrame'>\n",
      "RangeIndex: 36285 entries, 0 to 36284\n",
      "Data columns (total 17 columns):\n",
      " #   Column                    Non-Null Count  Dtype  \n",
      "---  ------                    --------------  -----  \n",
      " 0   Booking_ID                36285 non-null  object \n",
      " 1   number of adults          36285 non-null  int64  \n",
      " 2   number of children        36285 non-null  int64  \n",
      " 3   number of weekend nights  36285 non-null  int64  \n",
      " 4   number of week nights     36285 non-null  int64  \n",
      " 5   type of meal              36285 non-null  object \n",
      " 6   car parking space         36285 non-null  int64  \n",
      " 7   room type                 36285 non-null  object \n",
      " 8   lead time                 36285 non-null  int64  \n",
      " 9   market segment type       36285 non-null  object \n",
      " 10  repeated                  36285 non-null  int64  \n",
      " 11  P-C                       36285 non-null  int64  \n",
      " 12  P-not-C                   36285 non-null  int64  \n",
      " 13  average price             36285 non-null  float64\n",
      " 14  special requests          36285 non-null  int64  \n",
      " 15  date of reservation       36285 non-null  object \n",
      " 16  booking status            36285 non-null  object \n",
      "dtypes: float64(1), int64(10), object(6)\n",
      "memory usage: 4.7+ MB\n"
     ]
    }
   ],
   "source": [
    "df.info()"
   ]
  },
  {
   "cell_type": "code",
   "execution_count": 4,
   "id": "a5d99d30-9b47-4a52-ae62-7780fe6396b2",
   "metadata": {},
   "outputs": [
    {
     "data": {
      "text/html": [
       "<div>\n",
       "<style scoped>\n",
       "    .dataframe tbody tr th:only-of-type {\n",
       "        vertical-align: middle;\n",
       "    }\n",
       "\n",
       "    .dataframe tbody tr th {\n",
       "        vertical-align: top;\n",
       "    }\n",
       "\n",
       "    .dataframe thead th {\n",
       "        text-align: right;\n",
       "    }\n",
       "</style>\n",
       "<table border=\"1\" class=\"dataframe\">\n",
       "  <thead>\n",
       "    <tr style=\"text-align: right;\">\n",
       "      <th></th>\n",
       "      <th>Booking_ID</th>\n",
       "      <th>number of adults</th>\n",
       "      <th>number of children</th>\n",
       "      <th>number of weekend nights</th>\n",
       "      <th>number of week nights</th>\n",
       "      <th>type of meal</th>\n",
       "      <th>car parking space</th>\n",
       "      <th>room type</th>\n",
       "      <th>lead time</th>\n",
       "      <th>market segment type</th>\n",
       "      <th>repeated</th>\n",
       "      <th>P-C</th>\n",
       "      <th>P-not-C</th>\n",
       "      <th>average price</th>\n",
       "      <th>special requests</th>\n",
       "      <th>date of reservation</th>\n",
       "      <th>booking status</th>\n",
       "    </tr>\n",
       "  </thead>\n",
       "  <tbody>\n",
       "    <tr>\n",
       "      <th>0</th>\n",
       "      <td>INN00001</td>\n",
       "      <td>1</td>\n",
       "      <td>1</td>\n",
       "      <td>2</td>\n",
       "      <td>5</td>\n",
       "      <td>Meal Plan 1</td>\n",
       "      <td>0</td>\n",
       "      <td>Room_Type 1</td>\n",
       "      <td>224</td>\n",
       "      <td>Offline</td>\n",
       "      <td>0</td>\n",
       "      <td>0</td>\n",
       "      <td>0</td>\n",
       "      <td>88.00</td>\n",
       "      <td>0</td>\n",
       "      <td>10/2/2015</td>\n",
       "      <td>Not_Canceled</td>\n",
       "    </tr>\n",
       "    <tr>\n",
       "      <th>1</th>\n",
       "      <td>INN00002</td>\n",
       "      <td>1</td>\n",
       "      <td>0</td>\n",
       "      <td>1</td>\n",
       "      <td>3</td>\n",
       "      <td>Not Selected</td>\n",
       "      <td>0</td>\n",
       "      <td>Room_Type 1</td>\n",
       "      <td>5</td>\n",
       "      <td>Online</td>\n",
       "      <td>0</td>\n",
       "      <td>0</td>\n",
       "      <td>0</td>\n",
       "      <td>106.68</td>\n",
       "      <td>1</td>\n",
       "      <td>11/6/2018</td>\n",
       "      <td>Not_Canceled</td>\n",
       "    </tr>\n",
       "    <tr>\n",
       "      <th>2</th>\n",
       "      <td>INN00003</td>\n",
       "      <td>2</td>\n",
       "      <td>1</td>\n",
       "      <td>1</td>\n",
       "      <td>3</td>\n",
       "      <td>Meal Plan 1</td>\n",
       "      <td>0</td>\n",
       "      <td>Room_Type 1</td>\n",
       "      <td>1</td>\n",
       "      <td>Online</td>\n",
       "      <td>0</td>\n",
       "      <td>0</td>\n",
       "      <td>0</td>\n",
       "      <td>50.00</td>\n",
       "      <td>0</td>\n",
       "      <td>2/28/2018</td>\n",
       "      <td>Canceled</td>\n",
       "    </tr>\n",
       "    <tr>\n",
       "      <th>3</th>\n",
       "      <td>INN00004</td>\n",
       "      <td>1</td>\n",
       "      <td>0</td>\n",
       "      <td>0</td>\n",
       "      <td>2</td>\n",
       "      <td>Meal Plan 1</td>\n",
       "      <td>0</td>\n",
       "      <td>Room_Type 1</td>\n",
       "      <td>211</td>\n",
       "      <td>Online</td>\n",
       "      <td>0</td>\n",
       "      <td>0</td>\n",
       "      <td>0</td>\n",
       "      <td>100.00</td>\n",
       "      <td>1</td>\n",
       "      <td>5/20/2017</td>\n",
       "      <td>Canceled</td>\n",
       "    </tr>\n",
       "    <tr>\n",
       "      <th>4</th>\n",
       "      <td>INN00005</td>\n",
       "      <td>1</td>\n",
       "      <td>0</td>\n",
       "      <td>1</td>\n",
       "      <td>2</td>\n",
       "      <td>Not Selected</td>\n",
       "      <td>0</td>\n",
       "      <td>Room_Type 1</td>\n",
       "      <td>48</td>\n",
       "      <td>Online</td>\n",
       "      <td>0</td>\n",
       "      <td>0</td>\n",
       "      <td>0</td>\n",
       "      <td>77.00</td>\n",
       "      <td>0</td>\n",
       "      <td>4/11/2018</td>\n",
       "      <td>Canceled</td>\n",
       "    </tr>\n",
       "  </tbody>\n",
       "</table>\n",
       "</div>"
      ],
      "text/plain": [
       "  Booking_ID  number of adults  number of children  number of weekend nights  \\\n",
       "0   INN00001                 1                   1                         2   \n",
       "1   INN00002                 1                   0                         1   \n",
       "2   INN00003                 2                   1                         1   \n",
       "3   INN00004                 1                   0                         0   \n",
       "4   INN00005                 1                   0                         1   \n",
       "\n",
       "   number of week nights  type of meal  car parking space    room type  \\\n",
       "0                      5   Meal Plan 1                  0  Room_Type 1   \n",
       "1                      3  Not Selected                  0  Room_Type 1   \n",
       "2                      3   Meal Plan 1                  0  Room_Type 1   \n",
       "3                      2   Meal Plan 1                  0  Room_Type 1   \n",
       "4                      2  Not Selected                  0  Room_Type 1   \n",
       "\n",
       "   lead time market segment type  repeated  P-C  P-not-C  average price   \\\n",
       "0        224             Offline         0    0        0           88.00   \n",
       "1          5              Online         0    0        0          106.68   \n",
       "2          1              Online         0    0        0           50.00   \n",
       "3        211              Online         0    0        0          100.00   \n",
       "4         48              Online         0    0        0           77.00   \n",
       "\n",
       "   special requests date of reservation booking status  \n",
       "0                 0           10/2/2015   Not_Canceled  \n",
       "1                 1           11/6/2018   Not_Canceled  \n",
       "2                 0           2/28/2018       Canceled  \n",
       "3                 1           5/20/2017       Canceled  \n",
       "4                 0           4/11/2018       Canceled  "
      ]
     },
     "execution_count": 4,
     "metadata": {},
     "output_type": "execute_result"
    }
   ],
   "source": [
    "df.head()"
   ]
  },
  {
   "cell_type": "markdown",
   "id": "26d345f2-e66c-4620-b300-5c14c5d040cc",
   "metadata": {},
   "source": [
    "# Data pre-processing"
   ]
  },
  {
   "cell_type": "markdown",
   "id": "53fd7a1a-f2b9-46ed-a9da-e4323f021635",
   "metadata": {},
   "source": [
    "## Checking if there is duplicate data"
   ]
  },
  {
   "cell_type": "code",
   "execution_count": 5,
   "id": "1bdbc75b-37c3-4d20-9d58-af835352d473",
   "metadata": {},
   "outputs": [
    {
     "name": "stdout",
     "output_type": "stream",
     "text": [
      "0\n"
     ]
    }
   ],
   "source": [
    "# checking duplicates, turns out there's none\n",
    "print(df.duplicated().sum())"
   ]
  },
  {
   "cell_type": "markdown",
   "id": "e414db56-8c95-42ec-85c5-34719d7f8798",
   "metadata": {},
   "source": [
    "## Checking if there's Null data"
   ]
  },
  {
   "cell_type": "code",
   "execution_count": 6,
   "id": "0a0d72c0-7af4-49cf-b084-a3084391580e",
   "metadata": {},
   "outputs": [
    {
     "name": "stdout",
     "output_type": "stream",
     "text": [
      "Booking_ID                  0\n",
      "number of adults            0\n",
      "number of children          0\n",
      "number of weekend nights    0\n",
      "number of week nights       0\n",
      "type of meal                0\n",
      "car parking space           0\n",
      "room type                   0\n",
      "lead time                   0\n",
      "market segment type         0\n",
      "repeated                    0\n",
      "P-C                         0\n",
      "P-not-C                     0\n",
      "average price               0\n",
      "special requests            0\n",
      "date of reservation         0\n",
      "booking status              0\n",
      "dtype: int64\n"
     ]
    }
   ],
   "source": [
    "# checking if there are null values in any columns, turns out there's no null values\n",
    "print(df.isnull().sum())"
   ]
  },
  {
   "cell_type": "markdown",
   "id": "2d548ef4-86fd-41e7-bdd7-4b8bbee6c00c",
   "metadata": {},
   "source": [
    "# Handling Outliers"
   ]
  },
  {
   "cell_type": "markdown",
   "id": "b393d55c-c7c3-40b0-9c31-a234bead1e4d",
   "metadata": {},
   "source": [
    "## Seeing how many rows contain outliers, to see if it's possible to delete them"
   ]
  },
  {
   "cell_type": "code",
   "execution_count": 7,
   "id": "44514574-2975-462f-afe0-6350a40a4b4c",
   "metadata": {},
   "outputs": [
    {
     "name": "stdout",
     "output_type": "stream",
     "text": [
      "Total rows with outliers: 15327\n"
     ]
    }
   ],
   "source": [
    "def count_outliers_iqr(df, columns):\n",
    "    outliers = pd.DataFrame(index=df.index)\n",
    "    \n",
    "    for col in columns:\n",
    "        Q1 = df[col].quantile(0.25)\n",
    "        Q3 = df[col].quantile(0.75)\n",
    "        IQR = Q3 - Q1\n",
    "        lower_bound = Q1 - 1.5 * IQR\n",
    "        upper_bound = Q3 + 1.5 * IQR\n",
    "        # Add a boolean column for each numerical column indicating if it's an outlier\n",
    "        outliers[col] = (df[col] < lower_bound) | (df[col] > upper_bound)\n",
    "    \n",
    "    # Find rows that contain outliers in any of the columns\n",
    "    total_outliers = outliers.any(axis=1).sum()\n",
    "    return total_outliers, outliers\n",
    "\n",
    "# Specify your numerical columns\n",
    "numerical_cols = ['number of adults', 'number of children', 'number of weekend nights', \n",
    "                  'number of week nights', 'lead time', 'car parking space', \n",
    "                  'average price ', 'special requests']\n",
    "\n",
    "# Get the count of rows with outliers\n",
    "outlier_count, outlier_flags = count_outliers_iqr(df, numerical_cols)\n",
    "print(f'Total rows with outliers: {outlier_count}')"
   ]
  },
  {
   "cell_type": "markdown",
   "id": "c6b7b1d9-1c15-456a-b073-0bac74892b28",
   "metadata": {},
   "source": [
    "## Applying Capping on all outliers in each column"
   ]
  },
  {
   "cell_type": "code",
   "execution_count": 8,
   "id": "867fb9f9-85db-4923-a432-00dba49d3ade",
   "metadata": {},
   "outputs": [
    {
     "name": "stdout",
     "output_type": "stream",
     "text": [
      "Total rows with outliers after capping: 0\n"
     ]
    }
   ],
   "source": [
    "def cap_outliers_iqr(df, columns):\n",
    "    for column in columns:\n",
    "        Q1 = df[column].quantile(0.25)\n",
    "        Q3 = df[column].quantile(0.75)\n",
    "        IQR = Q3 - Q1\n",
    "        lower_bound = Q1 - 1.5 * IQR\n",
    "        upper_bound = Q3 + 1.5 * IQR\n",
    "        \n",
    "        # Cap the outliers\n",
    "        df[column] = np.where(df[column] < lower_bound, lower_bound, df[column])\n",
    "        df[column] = np.where(df[column] > upper_bound, upper_bound, df[column])\n",
    "    return df\n",
    "\n",
    "# Apply capping on numerical columns\n",
    "numerical_cols = ['number of adults', 'number of children', 'number of weekend nights', 'number of week nights',\n",
    "                  'lead time', 'car parking space', 'average price ', 'special requests']\n",
    "df = cap_outliers_iqr(df, numerical_cols)\n",
    "outlier_count, outlier_flags = count_outliers_iqr(df, numerical_cols)\n",
    "print(f'Total rows with outliers after capping: {outlier_count}')\n"
   ]
  },
  {
   "cell_type": "markdown",
   "id": "505e92aa-de80-4659-b753-3159fc4495a9",
   "metadata": {},
   "source": [
    "## Convert the date of reservation column into new features like year, month, or day"
   ]
  },
  {
   "cell_type": "markdown",
   "id": "0b22c618-acf1-4150-af8c-93e72a9d4b2d",
   "metadata": {},
   "source": [
    "### Checking if there are any incorrect dates, such as considering February 29 in a non-leap year or something similar"
   ]
  },
  {
   "cell_type": "code",
   "execution_count": 9,
   "id": "a2d3fefa-988a-41cf-b53c-e912a00f6726",
   "metadata": {},
   "outputs": [],
   "source": [
    "df['date of reservation'] = pd.to_datetime(df['date of reservation'], errors='coerce')"
   ]
  },
  {
   "cell_type": "code",
   "execution_count": 10,
   "id": "063b0a8f-21a2-4329-a8d8-2c25d5f4f4fe",
   "metadata": {},
   "outputs": [
    {
     "name": "stdout",
     "output_type": "stream",
     "text": [
      "Booking_ID                  37\n",
      "number of adults            37\n",
      "number of children          37\n",
      "number of weekend nights    37\n",
      "number of week nights       37\n",
      "type of meal                37\n",
      "car parking space           37\n",
      "room type                   37\n",
      "lead time                   37\n",
      "market segment type         37\n",
      "repeated                    37\n",
      "P-C                         37\n",
      "P-not-C                     37\n",
      "average price               37\n",
      "special requests            37\n",
      "date of reservation          0\n",
      "booking status              37\n",
      "dtype: int64\n",
      "----------------------\n",
      "Booking_ID                  36285\n",
      "number of adults            36285\n",
      "number of children          36285\n",
      "number of weekend nights    36285\n",
      "number of week nights       36285\n",
      "type of meal                36285\n",
      "car parking space           36285\n",
      "room type                   36285\n",
      "lead time                   36285\n",
      "market segment type         36285\n",
      "repeated                    36285\n",
      "P-C                         36285\n",
      "P-not-C                     36285\n",
      "average price               36285\n",
      "special requests            36285\n",
      "date of reservation         36248\n",
      "booking status              36285\n",
      "dtype: int64\n"
     ]
    }
   ],
   "source": [
    "invalid_dates = df[df['date of reservation'].isna()]\n",
    "print(invalid_dates.count())\n",
    "print(\"----------------------\")\n",
    "print(df.count())"
   ]
  },
  {
   "cell_type": "markdown",
   "id": "21bb9bf1-998a-46a0-a523-62449012f731",
   "metadata": {},
   "source": [
    "### Handling invalid dates\n",
    "\n",
    "Since there are only 37 row with invalid date, and more than 36000 row, it makes since to drop these rows, better than making any date assumptions"
   ]
  },
  {
   "cell_type": "code",
   "execution_count": 11,
   "id": "b59a3e13-17ea-4d98-bb0f-27a1f4e48ed6",
   "metadata": {},
   "outputs": [],
   "source": [
    "df = df.dropna(subset=['date of reservation'])"
   ]
  },
  {
   "cell_type": "code",
   "execution_count": 12,
   "id": "e520abda-960a-44a7-b3d9-d1aedd7b5878",
   "metadata": {},
   "outputs": [
    {
     "name": "stdout",
     "output_type": "stream",
     "text": [
      "Booking_ID                  0\n",
      "number of adults            0\n",
      "number of children          0\n",
      "number of weekend nights    0\n",
      "number of week nights       0\n",
      "type of meal                0\n",
      "car parking space           0\n",
      "room type                   0\n",
      "lead time                   0\n",
      "market segment type         0\n",
      "repeated                    0\n",
      "P-C                         0\n",
      "P-not-C                     0\n",
      "average price               0\n",
      "special requests            0\n",
      "date of reservation         0\n",
      "booking status              0\n",
      "dtype: int64\n",
      "----------------------------------\n",
      "Booking_ID                  36248\n",
      "number of adults            36248\n",
      "number of children          36248\n",
      "number of weekend nights    36248\n",
      "number of week nights       36248\n",
      "type of meal                36248\n",
      "car parking space           36248\n",
      "room type                   36248\n",
      "lead time                   36248\n",
      "market segment type         36248\n",
      "repeated                    36248\n",
      "P-C                         36248\n",
      "P-not-C                     36248\n",
      "average price               36248\n",
      "special requests            36248\n",
      "date of reservation         36248\n",
      "booking status              36248\n",
      "dtype: int64\n"
     ]
    }
   ],
   "source": [
    "invalid_dates = df[df['date of reservation'].isna()]\n",
    "print(invalid_dates.count())\n",
    "print(\"----------------------------------\")\n",
    "print(df.count())"
   ]
  },
  {
   "cell_type": "code",
   "execution_count": 13,
   "id": "15202858-358c-451b-b1ba-4dbe17d49ef1",
   "metadata": {},
   "outputs": [],
   "source": [
    "# droping booking_id column\n",
    "df = df.drop(['Booking_ID'], axis = 1) "
   ]
  },
  {
   "cell_type": "code",
   "execution_count": 14,
   "id": "51c23f70-5273-4424-b416-5677daf541cc",
   "metadata": {},
   "outputs": [
    {
     "data": {
      "text/html": [
       "<div>\n",
       "<style scoped>\n",
       "    .dataframe tbody tr th:only-of-type {\n",
       "        vertical-align: middle;\n",
       "    }\n",
       "\n",
       "    .dataframe tbody tr th {\n",
       "        vertical-align: top;\n",
       "    }\n",
       "\n",
       "    .dataframe thead th {\n",
       "        text-align: right;\n",
       "    }\n",
       "</style>\n",
       "<table border=\"1\" class=\"dataframe\">\n",
       "  <thead>\n",
       "    <tr style=\"text-align: right;\">\n",
       "      <th></th>\n",
       "      <th>number of adults</th>\n",
       "      <th>number of children</th>\n",
       "      <th>number of weekend nights</th>\n",
       "      <th>number of week nights</th>\n",
       "      <th>type of meal</th>\n",
       "      <th>car parking space</th>\n",
       "      <th>room type</th>\n",
       "      <th>lead time</th>\n",
       "      <th>market segment type</th>\n",
       "      <th>repeated</th>\n",
       "      <th>P-C</th>\n",
       "      <th>P-not-C</th>\n",
       "      <th>average price</th>\n",
       "      <th>special requests</th>\n",
       "      <th>booking status</th>\n",
       "      <th>reservation_year</th>\n",
       "      <th>reservation_month</th>\n",
       "      <th>reservation_day</th>\n",
       "    </tr>\n",
       "  </thead>\n",
       "  <tbody>\n",
       "    <tr>\n",
       "      <th>0</th>\n",
       "      <td>2.0</td>\n",
       "      <td>0.0</td>\n",
       "      <td>2.0</td>\n",
       "      <td>5.0</td>\n",
       "      <td>Meal Plan 1</td>\n",
       "      <td>0.0</td>\n",
       "      <td>Room_Type 1</td>\n",
       "      <td>224.0</td>\n",
       "      <td>Offline</td>\n",
       "      <td>0</td>\n",
       "      <td>0</td>\n",
       "      <td>0</td>\n",
       "      <td>88.00</td>\n",
       "      <td>0.0</td>\n",
       "      <td>Not_Canceled</td>\n",
       "      <td>2015</td>\n",
       "      <td>10</td>\n",
       "      <td>2</td>\n",
       "    </tr>\n",
       "    <tr>\n",
       "      <th>1</th>\n",
       "      <td>2.0</td>\n",
       "      <td>0.0</td>\n",
       "      <td>1.0</td>\n",
       "      <td>3.0</td>\n",
       "      <td>Not Selected</td>\n",
       "      <td>0.0</td>\n",
       "      <td>Room_Type 1</td>\n",
       "      <td>5.0</td>\n",
       "      <td>Online</td>\n",
       "      <td>0</td>\n",
       "      <td>0</td>\n",
       "      <td>0</td>\n",
       "      <td>106.68</td>\n",
       "      <td>1.0</td>\n",
       "      <td>Not_Canceled</td>\n",
       "      <td>2018</td>\n",
       "      <td>11</td>\n",
       "      <td>6</td>\n",
       "    </tr>\n",
       "    <tr>\n",
       "      <th>2</th>\n",
       "      <td>2.0</td>\n",
       "      <td>0.0</td>\n",
       "      <td>1.0</td>\n",
       "      <td>3.0</td>\n",
       "      <td>Meal Plan 1</td>\n",
       "      <td>0.0</td>\n",
       "      <td>Room_Type 1</td>\n",
       "      <td>1.0</td>\n",
       "      <td>Online</td>\n",
       "      <td>0</td>\n",
       "      <td>0</td>\n",
       "      <td>0</td>\n",
       "      <td>50.00</td>\n",
       "      <td>0.0</td>\n",
       "      <td>Canceled</td>\n",
       "      <td>2018</td>\n",
       "      <td>2</td>\n",
       "      <td>28</td>\n",
       "    </tr>\n",
       "    <tr>\n",
       "      <th>3</th>\n",
       "      <td>2.0</td>\n",
       "      <td>0.0</td>\n",
       "      <td>0.0</td>\n",
       "      <td>2.0</td>\n",
       "      <td>Meal Plan 1</td>\n",
       "      <td>0.0</td>\n",
       "      <td>Room_Type 1</td>\n",
       "      <td>211.0</td>\n",
       "      <td>Online</td>\n",
       "      <td>0</td>\n",
       "      <td>0</td>\n",
       "      <td>0</td>\n",
       "      <td>100.00</td>\n",
       "      <td>1.0</td>\n",
       "      <td>Canceled</td>\n",
       "      <td>2017</td>\n",
       "      <td>5</td>\n",
       "      <td>20</td>\n",
       "    </tr>\n",
       "    <tr>\n",
       "      <th>4</th>\n",
       "      <td>2.0</td>\n",
       "      <td>0.0</td>\n",
       "      <td>1.0</td>\n",
       "      <td>2.0</td>\n",
       "      <td>Not Selected</td>\n",
       "      <td>0.0</td>\n",
       "      <td>Room_Type 1</td>\n",
       "      <td>48.0</td>\n",
       "      <td>Online</td>\n",
       "      <td>0</td>\n",
       "      <td>0</td>\n",
       "      <td>0</td>\n",
       "      <td>77.00</td>\n",
       "      <td>0.0</td>\n",
       "      <td>Canceled</td>\n",
       "      <td>2018</td>\n",
       "      <td>4</td>\n",
       "      <td>11</td>\n",
       "    </tr>\n",
       "  </tbody>\n",
       "</table>\n",
       "</div>"
      ],
      "text/plain": [
       "   number of adults  number of children  number of weekend nights  \\\n",
       "0               2.0                 0.0                       2.0   \n",
       "1               2.0                 0.0                       1.0   \n",
       "2               2.0                 0.0                       1.0   \n",
       "3               2.0                 0.0                       0.0   \n",
       "4               2.0                 0.0                       1.0   \n",
       "\n",
       "   number of week nights  type of meal  car parking space    room type  \\\n",
       "0                    5.0   Meal Plan 1                0.0  Room_Type 1   \n",
       "1                    3.0  Not Selected                0.0  Room_Type 1   \n",
       "2                    3.0   Meal Plan 1                0.0  Room_Type 1   \n",
       "3                    2.0   Meal Plan 1                0.0  Room_Type 1   \n",
       "4                    2.0  Not Selected                0.0  Room_Type 1   \n",
       "\n",
       "   lead time market segment type  repeated  P-C  P-not-C  average price   \\\n",
       "0      224.0             Offline         0    0        0           88.00   \n",
       "1        5.0              Online         0    0        0          106.68   \n",
       "2        1.0              Online         0    0        0           50.00   \n",
       "3      211.0              Online         0    0        0          100.00   \n",
       "4       48.0              Online         0    0        0           77.00   \n",
       "\n",
       "   special requests booking status  reservation_year  reservation_month  \\\n",
       "0               0.0   Not_Canceled              2015                 10   \n",
       "1               1.0   Not_Canceled              2018                 11   \n",
       "2               0.0       Canceled              2018                  2   \n",
       "3               1.0       Canceled              2017                  5   \n",
       "4               0.0       Canceled              2018                  4   \n",
       "\n",
       "   reservation_day  \n",
       "0                2  \n",
       "1                6  \n",
       "2               28  \n",
       "3               20  \n",
       "4               11  "
      ]
     },
     "execution_count": 14,
     "metadata": {},
     "output_type": "execute_result"
    }
   ],
   "source": [
    "# Convert the date of reservation column into new features like year, month, or day of week to extract time-based trends.\n",
    "df['reservation_year'] = pd.to_datetime(df['date of reservation']).dt.year\n",
    "df['reservation_month'] = pd.to_datetime(df['date of reservation']).dt.month\n",
    "df['reservation_day'] = pd.to_datetime(df['date of reservation']).dt.day\n",
    "df = df.drop(['date of reservation'], axis = 1)\n",
    "df.head()"
   ]
  },
  {
   "cell_type": "markdown",
   "id": "7dc8588d-9c50-441b-b8af-9288830b4423",
   "metadata": {},
   "source": [
    "# Applying One Hot encoder on suitable Attributes"
   ]
  },
  {
   "cell_type": "code",
   "execution_count": 15,
   "id": "3312de7b-30e9-4969-aed8-92e5d12102e1",
   "metadata": {},
   "outputs": [],
   "source": [
    "one_hot_encoder = OneHotEncoder(sparse_output=False)\n",
    "\n",
    "def apply_one_hot_encoder(df, field_name):\n",
    "    field_encoded = one_hot_encoder.fit_transform(df[[field_name]])\n",
    "    df = pd.concat([df,pd.DataFrame(field_encoded, columns=one_hot_encoder.get_feature_names_out([field_name]), index=df.index)], axis = 1)\n",
    "    df = df.drop([field_name], axis = 1)\n",
    "    return df"
   ]
  },
  {
   "cell_type": "markdown",
   "id": "7df0fcda-16e8-4243-84ea-f33261adae5d",
   "metadata": {},
   "source": [
    "## Applying one hot encoder on type of meal, room type, market segment type"
   ]
  },
  {
   "cell_type": "code",
   "execution_count": 16,
   "id": "f516d56d-88b5-4d27-b7a5-9e81779ef8c4",
   "metadata": {},
   "outputs": [
    {
     "name": "stdout",
     "output_type": "stream",
     "text": [
      "type of meal classes: ['Meal Plan 1' 'Not Selected' 'Meal Plan 2' 'Meal Plan 3']\n",
      "room type classes: ['Room_Type 1' 'Room_Type 4' 'Room_Type 2' 'Room_Type 6' 'Room_Type 5'\n",
      " 'Room_Type 7' 'Room_Type 3']\n",
      "market segment type classes: ['Offline' 'Online' 'Corporate' 'Aviation' 'Complementary']\n"
     ]
    }
   ],
   "source": [
    "print(f\"type of meal classes: {df['type of meal'].unique()}\")\n",
    "print(f\"room type classes: {df['room type'].unique()}\")\n",
    "print(f\"market segment type classes: {df['market segment type'].unique()}\")"
   ]
  },
  {
   "cell_type": "code",
   "execution_count": 17,
   "id": "2a4c96bc-296f-42ba-8a76-a02d9cb2cc30",
   "metadata": {},
   "outputs": [],
   "source": [
    "df = apply_one_hot_encoder(df, 'type of meal')\n",
    "df = apply_one_hot_encoder(df, 'room type')\n",
    "df = apply_one_hot_encoder(df, 'market segment type')"
   ]
  },
  {
   "cell_type": "code",
   "execution_count": 18,
   "id": "eb93541e-719a-481b-ad58-39dfc376644f",
   "metadata": {},
   "outputs": [
    {
     "data": {
      "text/html": [
       "<div>\n",
       "<style scoped>\n",
       "    .dataframe tbody tr th:only-of-type {\n",
       "        vertical-align: middle;\n",
       "    }\n",
       "\n",
       "    .dataframe tbody tr th {\n",
       "        vertical-align: top;\n",
       "    }\n",
       "\n",
       "    .dataframe thead th {\n",
       "        text-align: right;\n",
       "    }\n",
       "</style>\n",
       "<table border=\"1\" class=\"dataframe\">\n",
       "  <thead>\n",
       "    <tr style=\"text-align: right;\">\n",
       "      <th></th>\n",
       "      <th>number of adults</th>\n",
       "      <th>number of children</th>\n",
       "      <th>number of weekend nights</th>\n",
       "      <th>number of week nights</th>\n",
       "      <th>car parking space</th>\n",
       "      <th>lead time</th>\n",
       "      <th>repeated</th>\n",
       "      <th>P-C</th>\n",
       "      <th>P-not-C</th>\n",
       "      <th>average price</th>\n",
       "      <th>...</th>\n",
       "      <th>room type_Room_Type 3</th>\n",
       "      <th>room type_Room_Type 4</th>\n",
       "      <th>room type_Room_Type 5</th>\n",
       "      <th>room type_Room_Type 6</th>\n",
       "      <th>room type_Room_Type 7</th>\n",
       "      <th>market segment type_Aviation</th>\n",
       "      <th>market segment type_Complementary</th>\n",
       "      <th>market segment type_Corporate</th>\n",
       "      <th>market segment type_Offline</th>\n",
       "      <th>market segment type_Online</th>\n",
       "    </tr>\n",
       "  </thead>\n",
       "  <tbody>\n",
       "    <tr>\n",
       "      <th>0</th>\n",
       "      <td>2.0</td>\n",
       "      <td>0.0</td>\n",
       "      <td>2.0</td>\n",
       "      <td>5.0</td>\n",
       "      <td>0.0</td>\n",
       "      <td>224.0</td>\n",
       "      <td>0</td>\n",
       "      <td>0</td>\n",
       "      <td>0</td>\n",
       "      <td>88.00</td>\n",
       "      <td>...</td>\n",
       "      <td>0.0</td>\n",
       "      <td>0.0</td>\n",
       "      <td>0.0</td>\n",
       "      <td>0.0</td>\n",
       "      <td>0.0</td>\n",
       "      <td>0.0</td>\n",
       "      <td>0.0</td>\n",
       "      <td>0.0</td>\n",
       "      <td>1.0</td>\n",
       "      <td>0.0</td>\n",
       "    </tr>\n",
       "    <tr>\n",
       "      <th>1</th>\n",
       "      <td>2.0</td>\n",
       "      <td>0.0</td>\n",
       "      <td>1.0</td>\n",
       "      <td>3.0</td>\n",
       "      <td>0.0</td>\n",
       "      <td>5.0</td>\n",
       "      <td>0</td>\n",
       "      <td>0</td>\n",
       "      <td>0</td>\n",
       "      <td>106.68</td>\n",
       "      <td>...</td>\n",
       "      <td>0.0</td>\n",
       "      <td>0.0</td>\n",
       "      <td>0.0</td>\n",
       "      <td>0.0</td>\n",
       "      <td>0.0</td>\n",
       "      <td>0.0</td>\n",
       "      <td>0.0</td>\n",
       "      <td>0.0</td>\n",
       "      <td>0.0</td>\n",
       "      <td>1.0</td>\n",
       "    </tr>\n",
       "    <tr>\n",
       "      <th>2</th>\n",
       "      <td>2.0</td>\n",
       "      <td>0.0</td>\n",
       "      <td>1.0</td>\n",
       "      <td>3.0</td>\n",
       "      <td>0.0</td>\n",
       "      <td>1.0</td>\n",
       "      <td>0</td>\n",
       "      <td>0</td>\n",
       "      <td>0</td>\n",
       "      <td>50.00</td>\n",
       "      <td>...</td>\n",
       "      <td>0.0</td>\n",
       "      <td>0.0</td>\n",
       "      <td>0.0</td>\n",
       "      <td>0.0</td>\n",
       "      <td>0.0</td>\n",
       "      <td>0.0</td>\n",
       "      <td>0.0</td>\n",
       "      <td>0.0</td>\n",
       "      <td>0.0</td>\n",
       "      <td>1.0</td>\n",
       "    </tr>\n",
       "    <tr>\n",
       "      <th>3</th>\n",
       "      <td>2.0</td>\n",
       "      <td>0.0</td>\n",
       "      <td>0.0</td>\n",
       "      <td>2.0</td>\n",
       "      <td>0.0</td>\n",
       "      <td>211.0</td>\n",
       "      <td>0</td>\n",
       "      <td>0</td>\n",
       "      <td>0</td>\n",
       "      <td>100.00</td>\n",
       "      <td>...</td>\n",
       "      <td>0.0</td>\n",
       "      <td>0.0</td>\n",
       "      <td>0.0</td>\n",
       "      <td>0.0</td>\n",
       "      <td>0.0</td>\n",
       "      <td>0.0</td>\n",
       "      <td>0.0</td>\n",
       "      <td>0.0</td>\n",
       "      <td>0.0</td>\n",
       "      <td>1.0</td>\n",
       "    </tr>\n",
       "    <tr>\n",
       "      <th>4</th>\n",
       "      <td>2.0</td>\n",
       "      <td>0.0</td>\n",
       "      <td>1.0</td>\n",
       "      <td>2.0</td>\n",
       "      <td>0.0</td>\n",
       "      <td>48.0</td>\n",
       "      <td>0</td>\n",
       "      <td>0</td>\n",
       "      <td>0</td>\n",
       "      <td>77.00</td>\n",
       "      <td>...</td>\n",
       "      <td>0.0</td>\n",
       "      <td>0.0</td>\n",
       "      <td>0.0</td>\n",
       "      <td>0.0</td>\n",
       "      <td>0.0</td>\n",
       "      <td>0.0</td>\n",
       "      <td>0.0</td>\n",
       "      <td>0.0</td>\n",
       "      <td>0.0</td>\n",
       "      <td>1.0</td>\n",
       "    </tr>\n",
       "    <tr>\n",
       "      <th>...</th>\n",
       "      <td>...</td>\n",
       "      <td>...</td>\n",
       "      <td>...</td>\n",
       "      <td>...</td>\n",
       "      <td>...</td>\n",
       "      <td>...</td>\n",
       "      <td>...</td>\n",
       "      <td>...</td>\n",
       "      <td>...</td>\n",
       "      <td>...</td>\n",
       "      <td>...</td>\n",
       "      <td>...</td>\n",
       "      <td>...</td>\n",
       "      <td>...</td>\n",
       "      <td>...</td>\n",
       "      <td>...</td>\n",
       "      <td>...</td>\n",
       "      <td>...</td>\n",
       "      <td>...</td>\n",
       "      <td>...</td>\n",
       "      <td>...</td>\n",
       "    </tr>\n",
       "    <tr>\n",
       "      <th>36280</th>\n",
       "      <td>2.0</td>\n",
       "      <td>0.0</td>\n",
       "      <td>0.0</td>\n",
       "      <td>2.0</td>\n",
       "      <td>0.0</td>\n",
       "      <td>289.5</td>\n",
       "      <td>0</td>\n",
       "      <td>0</td>\n",
       "      <td>0</td>\n",
       "      <td>115.00</td>\n",
       "      <td>...</td>\n",
       "      <td>0.0</td>\n",
       "      <td>0.0</td>\n",
       "      <td>0.0</td>\n",
       "      <td>0.0</td>\n",
       "      <td>0.0</td>\n",
       "      <td>0.0</td>\n",
       "      <td>0.0</td>\n",
       "      <td>0.0</td>\n",
       "      <td>0.0</td>\n",
       "      <td>1.0</td>\n",
       "    </tr>\n",
       "    <tr>\n",
       "      <th>36281</th>\n",
       "      <td>2.0</td>\n",
       "      <td>0.0</td>\n",
       "      <td>1.0</td>\n",
       "      <td>3.0</td>\n",
       "      <td>0.0</td>\n",
       "      <td>34.0</td>\n",
       "      <td>0</td>\n",
       "      <td>0</td>\n",
       "      <td>0</td>\n",
       "      <td>107.55</td>\n",
       "      <td>...</td>\n",
       "      <td>0.0</td>\n",
       "      <td>0.0</td>\n",
       "      <td>0.0</td>\n",
       "      <td>0.0</td>\n",
       "      <td>0.0</td>\n",
       "      <td>0.0</td>\n",
       "      <td>0.0</td>\n",
       "      <td>0.0</td>\n",
       "      <td>0.0</td>\n",
       "      <td>1.0</td>\n",
       "    </tr>\n",
       "    <tr>\n",
       "      <th>36282</th>\n",
       "      <td>2.0</td>\n",
       "      <td>0.0</td>\n",
       "      <td>1.0</td>\n",
       "      <td>3.0</td>\n",
       "      <td>0.0</td>\n",
       "      <td>83.0</td>\n",
       "      <td>0</td>\n",
       "      <td>0</td>\n",
       "      <td>0</td>\n",
       "      <td>105.61</td>\n",
       "      <td>...</td>\n",
       "      <td>0.0</td>\n",
       "      <td>1.0</td>\n",
       "      <td>0.0</td>\n",
       "      <td>0.0</td>\n",
       "      <td>0.0</td>\n",
       "      <td>0.0</td>\n",
       "      <td>0.0</td>\n",
       "      <td>0.0</td>\n",
       "      <td>0.0</td>\n",
       "      <td>1.0</td>\n",
       "    </tr>\n",
       "    <tr>\n",
       "      <th>36283</th>\n",
       "      <td>2.0</td>\n",
       "      <td>0.0</td>\n",
       "      <td>0.0</td>\n",
       "      <td>4.0</td>\n",
       "      <td>0.0</td>\n",
       "      <td>121.0</td>\n",
       "      <td>0</td>\n",
       "      <td>0</td>\n",
       "      <td>0</td>\n",
       "      <td>96.90</td>\n",
       "      <td>...</td>\n",
       "      <td>0.0</td>\n",
       "      <td>0.0</td>\n",
       "      <td>0.0</td>\n",
       "      <td>0.0</td>\n",
       "      <td>0.0</td>\n",
       "      <td>0.0</td>\n",
       "      <td>0.0</td>\n",
       "      <td>0.0</td>\n",
       "      <td>1.0</td>\n",
       "      <td>0.0</td>\n",
       "    </tr>\n",
       "    <tr>\n",
       "      <th>36284</th>\n",
       "      <td>2.0</td>\n",
       "      <td>0.0</td>\n",
       "      <td>0.0</td>\n",
       "      <td>5.0</td>\n",
       "      <td>0.0</td>\n",
       "      <td>44.0</td>\n",
       "      <td>0</td>\n",
       "      <td>0</td>\n",
       "      <td>0</td>\n",
       "      <td>133.44</td>\n",
       "      <td>...</td>\n",
       "      <td>0.0</td>\n",
       "      <td>1.0</td>\n",
       "      <td>0.0</td>\n",
       "      <td>0.0</td>\n",
       "      <td>0.0</td>\n",
       "      <td>0.0</td>\n",
       "      <td>0.0</td>\n",
       "      <td>0.0</td>\n",
       "      <td>0.0</td>\n",
       "      <td>1.0</td>\n",
       "    </tr>\n",
       "  </tbody>\n",
       "</table>\n",
       "<p>36248 rows × 31 columns</p>\n",
       "</div>"
      ],
      "text/plain": [
       "       number of adults  number of children  number of weekend nights  \\\n",
       "0                   2.0                 0.0                       2.0   \n",
       "1                   2.0                 0.0                       1.0   \n",
       "2                   2.0                 0.0                       1.0   \n",
       "3                   2.0                 0.0                       0.0   \n",
       "4                   2.0                 0.0                       1.0   \n",
       "...                 ...                 ...                       ...   \n",
       "36280               2.0                 0.0                       0.0   \n",
       "36281               2.0                 0.0                       1.0   \n",
       "36282               2.0                 0.0                       1.0   \n",
       "36283               2.0                 0.0                       0.0   \n",
       "36284               2.0                 0.0                       0.0   \n",
       "\n",
       "       number of week nights  car parking space  lead time  repeated  P-C  \\\n",
       "0                        5.0                0.0      224.0         0    0   \n",
       "1                        3.0                0.0        5.0         0    0   \n",
       "2                        3.0                0.0        1.0         0    0   \n",
       "3                        2.0                0.0      211.0         0    0   \n",
       "4                        2.0                0.0       48.0         0    0   \n",
       "...                      ...                ...        ...       ...  ...   \n",
       "36280                    2.0                0.0      289.5         0    0   \n",
       "36281                    3.0                0.0       34.0         0    0   \n",
       "36282                    3.0                0.0       83.0         0    0   \n",
       "36283                    4.0                0.0      121.0         0    0   \n",
       "36284                    5.0                0.0       44.0         0    0   \n",
       "\n",
       "       P-not-C  average price   ...  room type_Room_Type 3  \\\n",
       "0            0           88.00  ...                    0.0   \n",
       "1            0          106.68  ...                    0.0   \n",
       "2            0           50.00  ...                    0.0   \n",
       "3            0          100.00  ...                    0.0   \n",
       "4            0           77.00  ...                    0.0   \n",
       "...        ...             ...  ...                    ...   \n",
       "36280        0          115.00  ...                    0.0   \n",
       "36281        0          107.55  ...                    0.0   \n",
       "36282        0          105.61  ...                    0.0   \n",
       "36283        0           96.90  ...                    0.0   \n",
       "36284        0          133.44  ...                    0.0   \n",
       "\n",
       "      room type_Room_Type 4  room type_Room_Type 5  room type_Room_Type 6  \\\n",
       "0                       0.0                    0.0                    0.0   \n",
       "1                       0.0                    0.0                    0.0   \n",
       "2                       0.0                    0.0                    0.0   \n",
       "3                       0.0                    0.0                    0.0   \n",
       "4                       0.0                    0.0                    0.0   \n",
       "...                     ...                    ...                    ...   \n",
       "36280                   0.0                    0.0                    0.0   \n",
       "36281                   0.0                    0.0                    0.0   \n",
       "36282                   1.0                    0.0                    0.0   \n",
       "36283                   0.0                    0.0                    0.0   \n",
       "36284                   1.0                    0.0                    0.0   \n",
       "\n",
       "       room type_Room_Type 7  market segment type_Aviation  \\\n",
       "0                        0.0                           0.0   \n",
       "1                        0.0                           0.0   \n",
       "2                        0.0                           0.0   \n",
       "3                        0.0                           0.0   \n",
       "4                        0.0                           0.0   \n",
       "...                      ...                           ...   \n",
       "36280                    0.0                           0.0   \n",
       "36281                    0.0                           0.0   \n",
       "36282                    0.0                           0.0   \n",
       "36283                    0.0                           0.0   \n",
       "36284                    0.0                           0.0   \n",
       "\n",
       "       market segment type_Complementary  market segment type_Corporate  \\\n",
       "0                                    0.0                            0.0   \n",
       "1                                    0.0                            0.0   \n",
       "2                                    0.0                            0.0   \n",
       "3                                    0.0                            0.0   \n",
       "4                                    0.0                            0.0   \n",
       "...                                  ...                            ...   \n",
       "36280                                0.0                            0.0   \n",
       "36281                                0.0                            0.0   \n",
       "36282                                0.0                            0.0   \n",
       "36283                                0.0                            0.0   \n",
       "36284                                0.0                            0.0   \n",
       "\n",
       "       market segment type_Offline  market segment type_Online  \n",
       "0                              1.0                         0.0  \n",
       "1                              0.0                         1.0  \n",
       "2                              0.0                         1.0  \n",
       "3                              0.0                         1.0  \n",
       "4                              0.0                         1.0  \n",
       "...                            ...                         ...  \n",
       "36280                          0.0                         1.0  \n",
       "36281                          0.0                         1.0  \n",
       "36282                          0.0                         1.0  \n",
       "36283                          1.0                         0.0  \n",
       "36284                          0.0                         1.0  \n",
       "\n",
       "[36248 rows x 31 columns]"
      ]
     },
     "execution_count": 18,
     "metadata": {},
     "output_type": "execute_result"
    }
   ],
   "source": [
    "df"
   ]
  },
  {
   "cell_type": "markdown",
   "id": "e0844e1a-b5c5-4a04-b580-5fbb7af6eeff",
   "metadata": {},
   "source": [
    "# Convert (Not Cancelled -> 1 and Cacelled --> 0)"
   ]
  },
  {
   "cell_type": "code",
   "execution_count": 19,
   "id": "b34c8f5f-9e27-4075-96e1-db53cfc8f819",
   "metadata": {},
   "outputs": [
    {
     "data": {
      "text/plain": [
       "0        0\n",
       "1        0\n",
       "2        1\n",
       "3        1\n",
       "4        1\n",
       "        ..\n",
       "36280    1\n",
       "36281    0\n",
       "36282    0\n",
       "36283    0\n",
       "36284    0\n",
       "Name: booking status, Length: 36248, dtype: int64"
      ]
     },
     "execution_count": 19,
     "metadata": {},
     "output_type": "execute_result"
    }
   ],
   "source": [
    "status_dec = {'Not_Canceled': 0, 'Canceled': 1}\n",
    "df['booking status'] = [status_dec[i] for i in df['booking status']]\n",
    "df['booking status']"
   ]
  },
  {
   "cell_type": "code",
   "execution_count": 20,
   "id": "76997019-9995-4790-bfb2-e4e1cb5dc3cc",
   "metadata": {},
   "outputs": [
    {
     "name": "stdout",
     "output_type": "stream",
     "text": [
      "<class 'pandas.core.frame.DataFrame'>\n",
      "Index: 36248 entries, 0 to 36284\n",
      "Data columns (total 31 columns):\n",
      " #   Column                             Non-Null Count  Dtype  \n",
      "---  ------                             --------------  -----  \n",
      " 0   number of adults                   36248 non-null  float64\n",
      " 1   number of children                 36248 non-null  float64\n",
      " 2   number of weekend nights           36248 non-null  float64\n",
      " 3   number of week nights              36248 non-null  float64\n",
      " 4   car parking space                  36248 non-null  float64\n",
      " 5   lead time                          36248 non-null  float64\n",
      " 6   repeated                           36248 non-null  int64  \n",
      " 7   P-C                                36248 non-null  int64  \n",
      " 8   P-not-C                            36248 non-null  int64  \n",
      " 9   average price                      36248 non-null  float64\n",
      " 10  special requests                   36248 non-null  float64\n",
      " 11  booking status                     36248 non-null  int64  \n",
      " 12  reservation_year                   36248 non-null  int32  \n",
      " 13  reservation_month                  36248 non-null  int32  \n",
      " 14  reservation_day                    36248 non-null  int32  \n",
      " 15  type of meal_Meal Plan 1           36248 non-null  float64\n",
      " 16  type of meal_Meal Plan 2           36248 non-null  float64\n",
      " 17  type of meal_Meal Plan 3           36248 non-null  float64\n",
      " 18  type of meal_Not Selected          36248 non-null  float64\n",
      " 19  room type_Room_Type 1              36248 non-null  float64\n",
      " 20  room type_Room_Type 2              36248 non-null  float64\n",
      " 21  room type_Room_Type 3              36248 non-null  float64\n",
      " 22  room type_Room_Type 4              36248 non-null  float64\n",
      " 23  room type_Room_Type 5              36248 non-null  float64\n",
      " 24  room type_Room_Type 6              36248 non-null  float64\n",
      " 25  room type_Room_Type 7              36248 non-null  float64\n",
      " 26  market segment type_Aviation       36248 non-null  float64\n",
      " 27  market segment type_Complementary  36248 non-null  float64\n",
      " 28  market segment type_Corporate      36248 non-null  float64\n",
      " 29  market segment type_Offline        36248 non-null  float64\n",
      " 30  market segment type_Online         36248 non-null  float64\n",
      "dtypes: float64(24), int32(3), int64(4)\n",
      "memory usage: 8.4 MB\n"
     ]
    }
   ],
   "source": [
    "df.info()"
   ]
  },
  {
   "cell_type": "code",
   "execution_count": 21,
   "id": "af4a0e89-2a30-4159-b0c1-591821941d72",
   "metadata": {},
   "outputs": [
    {
     "name": "stdout",
     "output_type": "stream",
     "text": [
      "Number of columns:  30\n"
     ]
    }
   ],
   "source": [
    "x_all = df.drop(['booking status'], axis=1)\n",
    "y_all = df['booking status'].values.flatten()\n",
    "print(\"Number of columns: \", x_all.shape[1])"
   ]
  },
  {
   "cell_type": "markdown",
   "id": "e0c84e81-80c6-4bb4-8d7a-c962693edd8b",
   "metadata": {},
   "source": [
    "# Next Steps Plan:\n",
    "We want to perform **feature extraction** to reduce the number of columns (dimensions). However, before doing so, we want to see how the model's accuracy will be without removing any columns or performing any feature extraction. The plan is as follows:\n",
    "\n",
    "1. Run the Logistic Regression and KNN models to compare their accuracies.\n",
    "2. Perform feature extraction to reduce the number of columns and the computational power required.\n",
    "3. Rerun the models on the dataset after reducing the columns and see how it affects the accuracy."
   ]
  },
  {
   "cell_type": "code",
   "execution_count": 22,
   "id": "9bc18236-624d-4003-b139-0a847e84a702",
   "metadata": {},
   "outputs": [],
   "source": [
    "x_train, x_test, y_train, y_test = train_test_split(x_all, y_all, test_size=0.2, random_state=42)\n",
    "\n",
    "scaler = StandardScaler()\n",
    "x_train_scaled = scaler.fit_transform(x_train)\n",
    "x_test_scaled = scaler.transform(x_test)"
   ]
  },
  {
   "cell_type": "markdown",
   "id": "929de4bc-5465-4df2-b241-515e97b00875",
   "metadata": {},
   "source": [
    "# Running The Logistic Regression Model"
   ]
  },
  {
   "cell_type": "code",
   "execution_count": 23,
   "id": "ffef4b48-a1e2-4518-8b9c-9ed908af5b87",
   "metadata": {},
   "outputs": [
    {
     "name": "stdout",
     "output_type": "stream",
     "text": [
      "Logistic Regression Cross-Validation Scores: [0.8  0.81 0.8  0.81 0.8 ]\n",
      "Logistic Regression Mean CV Accuracy: 0.804\n"
     ]
    }
   ],
   "source": [
    "logistic_model = LogisticRegression()\n",
    "\n",
    "# For our training data, we will use cross-validation to ensure that our model doesn't overfit to only one split\n",
    "logistic_cv_scores = cross_val_score(logistic_model, x_train_scaled, y_train, cv=5)\n",
    "logistic_cv_scores = np.round(logistic_cv_scores, 2)\n",
    "print(\"Logistic Regression Cross-Validation Scores:\", logistic_cv_scores)\n",
    "print(\"Logistic Regression Mean CV Accuracy:\", logistic_cv_scores.mean())"
   ]
  },
  {
   "cell_type": "code",
   "execution_count": 24,
   "id": "64483ee5-4438-4fe0-ae27-c92f82cef6ab",
   "metadata": {},
   "outputs": [
    {
     "name": "stdout",
     "output_type": "stream",
     "text": [
      "Simulating the process of putting our model in production environment, and seeing new data\n",
      "Accuracy: 0.81\n"
     ]
    }
   ],
   "source": [
    "# simulating the process of putting our model in production environment, and seeing new data other than the training one\n",
    "print(\"Simulating the process of putting our model in production environment, and seeing new data\")\n",
    "\n",
    "logistic_model.fit(x_train_scaled, y_train)\n",
    "y_pred = logistic_model.predict(x_test_scaled)\n",
    "\n",
    "# Evaluate the model\n",
    "accuracy = accuracy_score(y_test, y_pred)\n",
    "print(f'Accuracy: {accuracy:.2f}')"
   ]
  },
  {
   "cell_type": "markdown",
   "id": "f93d874f-b5a0-43d2-85de-a00fabaf2d5b",
   "metadata": {},
   "source": [
    "# Running KNN model"
   ]
  },
  {
   "cell_type": "code",
   "execution_count": 25,
   "id": "6ea5c988-0c97-42cd-833b-840896af8dc7",
   "metadata": {},
   "outputs": [
    {
     "name": "stdout",
     "output_type": "stream",
     "text": [
      "KNN Cross-Validation Scores: [0.85 0.85 0.85 0.84 0.84]\n",
      "KNN Mean CV Accuracy: 0.8459999999999999\n"
     ]
    }
   ],
   "source": [
    "knn_model = KNeighborsClassifier(n_neighbors=3)\n",
    "\n",
    "# Fit the model on the scaled training data\n",
    "knn_cv_scores = cross_val_score(knn_model, x_train_scaled, y_train, cv=5)\n",
    "knn_cv_scores = np.round(knn_cv_scores, 2)\n",
    "print(\"KNN Cross-Validation Scores:\", knn_cv_scores)\n",
    "print(\"KNN Mean CV Accuracy:\", knn_cv_scores.mean())"
   ]
  },
  {
   "cell_type": "code",
   "execution_count": 26,
   "id": "e2e61ede-388b-43a2-aa29-008a8bcd7235",
   "metadata": {},
   "outputs": [
    {
     "name": "stdout",
     "output_type": "stream",
     "text": [
      "Simulating the process of putting our model in production environment, and seeing new data\n",
      "Accuracy: 0.85\n"
     ]
    }
   ],
   "source": [
    "# simulating the process of putting our model in production environment, and seeing new data other than the training one\n",
    "print(\"Simulating the process of putting our model in production environment, and seeing new data\")\n",
    "\n",
    "knn_model.fit(x_train_scaled, y_train)\n",
    "y_pred_knn = knn_model.predict(x_test_scaled)\n",
    "\n",
    "# Evaluate the KNN model\n",
    "accuracy_knn = accuracy_score(y_test, y_pred_knn)\n",
    "print(f'Accuracy: {accuracy_knn:.2f}')"
   ]
  },
  {
   "cell_type": "markdown",
   "id": "a1770086",
   "metadata": {},
   "source": [
    "# Running RandomForest model"
   ]
  },
  {
   "cell_type": "code",
   "execution_count": 27,
   "id": "426f21f5",
   "metadata": {},
   "outputs": [
    {
     "name": "stdout",
     "output_type": "stream",
     "text": [
      "Random Forest Cross-Validation Scores: [0.89 0.9  0.89 0.9  0.9 ]\n",
      "Random Forest Mean CV Accuracy: 0.8960000000000001\n"
     ]
    }
   ],
   "source": [
    "# Initialize the RandomForestClassifier\n",
    "rf_model = RandomForestClassifier()\n",
    "\n",
    "# Cross-validation to ensure the model doesn't overfit\n",
    "rf_cv_scores = cross_val_score(rf_model, x_train_scaled, y_train, cv=5)\n",
    "rf_cv_scores = np.round(rf_cv_scores, 2)\n",
    "\n",
    "print(\"Random Forest Cross-Validation Scores:\", rf_cv_scores)\n",
    "print(\"Random Forest Mean CV Accuracy:\", rf_cv_scores.mean())"
   ]
  },
  {
   "cell_type": "code",
   "execution_count": 28,
   "id": "37d43d10",
   "metadata": {},
   "outputs": [
    {
     "name": "stdout",
     "output_type": "stream",
     "text": [
      "Simulating the process of putting our model in production environment, and seeing new data\n",
      "Accuracy: 0.90\n"
     ]
    }
   ],
   "source": [
    "print(\"Simulating the process of putting our model in production environment, and seeing new data\")\n",
    "# Train the model on the training data\n",
    "rf_model.fit(x_train_scaled, y_train)\n",
    "\n",
    "# Predict using the test data\n",
    "y_pred = rf_model.predict(x_test_scaled)\n",
    "\n",
    "# Evaluate the model\n",
    "accuracy = accuracy_score(y_test, y_pred)\n",
    "print(f'Accuracy: {accuracy:.2f}')"
   ]
  },
  {
   "cell_type": "markdown",
   "id": "2e9243d4-fc57-47c4-84d3-432d2719b286",
   "metadata": {},
   "source": [
    "# Feature Selection To Reduce Computational Power"
   ]
  },
  {
   "cell_type": "markdown",
   "id": "20e11e35-aa91-45d5-afca-819d1c14977d",
   "metadata": {},
   "source": [
    "## Filter by variance"
   ]
  },
  {
   "cell_type": "code",
   "execution_count": 29,
   "id": "9c49687a-0c59-4762-9a75-90e35b86a8af",
   "metadata": {},
   "outputs": [
    {
     "data": {
      "text/plain": [
       "number of adults                        0.000000\n",
       "number of children                      0.000000\n",
       "number of weekend nights                0.752785\n",
       "number of week nights                   1.665486\n",
       "car parking space                       0.000000\n",
       "lead time                            6672.013029\n",
       "repeated                                0.024894\n",
       "P-C                                     0.135742\n",
       "P-not-C                                 3.073451\n",
       "average price                        1003.182688\n",
       "special requests                        0.558144\n",
       "reservation_year                        0.147760\n",
       "reservation_month                       9.404063\n",
       "reservation_day                        76.287644\n",
       "type of meal_Meal Plan 1                0.178616\n",
       "type of meal_Meal Plan 2                0.082821\n",
       "type of meal_Meal Plan 3                0.000138\n",
       "type of meal_Not Selected               0.121519\n",
       "room type_Room_Type 1                   0.174064\n",
       "room type_Room_Type 2                   0.018727\n",
       "room type_Room_Type 3                   0.000193\n",
       "room type_Room_Type 4                   0.139070\n",
       "room type_Room_Type 5                   0.007203\n",
       "room type_Room_Type 6                   0.025888\n",
       "room type_Room_Type 7                   0.004340\n",
       "market segment type_Aviation            0.003437\n",
       "market segment type_Complementary       0.010644\n",
       "market segment type_Corporate           0.052402\n",
       "market segment type_Offline             0.206011\n",
       "market segment type_Online              0.230389\n",
       "dtype: float64"
      ]
     },
     "execution_count": 29,
     "metadata": {},
     "output_type": "execute_result"
    }
   ],
   "source": [
    "x_all.var()"
   ]
  },
  {
   "cell_type": "code",
   "execution_count": 30,
   "id": "65024e6e-cd0e-4537-99c0-162dc7f61fd9",
   "metadata": {},
   "outputs": [
    {
     "name": "stdout",
     "output_type": "stream",
     "text": [
      "Updated DataFrame columns with their variance:\n",
      "number of weekend nights          0.752785\n",
      "number of week nights             1.665486\n",
      "lead time                      6672.013029\n",
      "P-C                               0.135742\n",
      "P-not-C                           3.073451\n",
      "average price                  1003.182688\n",
      "special requests                  0.558144\n",
      "reservation_year                  0.147760\n",
      "reservation_month                 9.404063\n",
      "reservation_day                  76.287644\n",
      "type of meal_Meal Plan 1          0.178616\n",
      "type of meal_Not Selected         0.121519\n",
      "room type_Room_Type 1             0.174064\n",
      "room type_Room_Type 4             0.139070\n",
      "market segment type_Offline       0.206011\n",
      "market segment type_Online        0.230389\n",
      "dtype: float64\n"
     ]
    }
   ],
   "source": [
    "variances = x_all.var()\n",
    "\n",
    "# Define a threshold\n",
    "threshold = 0.1\n",
    "\n",
    "# Identify columns to drop based on variance threshold\n",
    "columns_to_drop = variances[variances < threshold].index\n",
    "\n",
    "x_all.drop(columns=columns_to_drop, inplace=True)\n",
    "print(\"Updated DataFrame columns with their variance:\")\n",
    "print(x_all.var())\n"
   ]
  },
  {
   "cell_type": "code",
   "execution_count": 31,
   "id": "eb0f7ea2-ed5b-4d90-9c72-7ad796c7bb55",
   "metadata": {},
   "outputs": [
    {
     "name": "stdout",
     "output_type": "stream",
     "text": [
      "Dropping highly correlated features: {'room type_Room_Type 4', 'market segment type_Online'}\n",
      "Number of columns:  14\n",
      "Index(['number of weekend nights', 'number of week nights', 'lead time', 'P-C',\n",
      "       'P-not-C', 'average price ', 'special requests', 'reservation_year',\n",
      "       'reservation_month', 'reservation_day', 'type of meal_Meal Plan 1',\n",
      "       'type of meal_Not Selected', 'room type_Room_Type 1',\n",
      "       'market segment type_Offline'],\n",
      "      dtype='object')\n"
     ]
    }
   ],
   "source": [
    "## Filter by Correlation\n",
    "correlation_matrix = x_all.corr().abs()\n",
    "\n",
    "# Set a threshold for high correlation\n",
    "threshold = 0.8\n",
    "\n",
    "# Create a set to hold features to drop\n",
    "features_to_drop = set()\n",
    "\n",
    "# Loop through the correlation matrix\n",
    "for i in range(len(correlation_matrix.columns)):\n",
    "    for j in range(i):\n",
    "        if correlation_matrix.iloc[i, j] > threshold:\n",
    "            # Get the names of the features\n",
    "            feature_name = correlation_matrix.columns[i]\n",
    "            features_to_drop.add(feature_name)\n",
    "\n",
    "print(\"Dropping highly correlated features:\", features_to_drop)\n",
    "x_all.drop(columns=features_to_drop, inplace=True)\n",
    "print(\"Number of columns: \", x_all.shape[1])\n",
    "print(x_all.columns)"
   ]
  },
  {
   "cell_type": "code",
   "execution_count": 32,
   "id": "a9b76044-05c9-455a-9a9a-5355cce40d10",
   "metadata": {},
   "outputs": [],
   "source": [
    "x_train, x_test, y_train, y_test = train_test_split(x_all, y_all, test_size=0.2, random_state=42)\n",
    "\n",
    "scaler = StandardScaler()\n",
    "x_train_scaled = scaler.fit_transform(x_train)\n",
    "x_test_scaled = scaler.transform(x_test)"
   ]
  },
  {
   "cell_type": "markdown",
   "id": "8dac94de-c1e7-4007-81be-f1d9ac6a90a2",
   "metadata": {},
   "source": [
    "# Running Linear Regression Model Again"
   ]
  },
  {
   "cell_type": "code",
   "execution_count": 33,
   "id": "e00092be-8796-4d38-b84d-164dea992554",
   "metadata": {},
   "outputs": [
    {
     "name": "stdout",
     "output_type": "stream",
     "text": [
      "Logistic Regression Cross-Validation Scores: [0.79 0.8  0.8  0.8  0.8 ]\n",
      "Logistic Regression Mean CV Accuracy: 0.798\n"
     ]
    }
   ],
   "source": [
    "model = LogisticRegression()\n",
    "\n",
    "logistic_model = LogisticRegression()\n",
    "\n",
    "# For our training data, we will use cross-validation to ensure that our model doesn't overfit to only one split\n",
    "logistic_cv_scores = cross_val_score(logistic_model, x_train_scaled, y_train, cv=5)\n",
    "logistic_cv_scores = np.round(logistic_cv_scores, 2)\n",
    "print(\"Logistic Regression Cross-Validation Scores:\", logistic_cv_scores)\n",
    "print(\"Logistic Regression Mean CV Accuracy:\", logistic_cv_scores.mean())"
   ]
  },
  {
   "cell_type": "code",
   "execution_count": 34,
   "id": "02e483ce-efc9-4a02-a312-30e4ea949c28",
   "metadata": {},
   "outputs": [
    {
     "name": "stdout",
     "output_type": "stream",
     "text": [
      "Simulating the process of putting our model in production environment, and seeing new data\n",
      "Accuracy: 0.80\n"
     ]
    }
   ],
   "source": [
    "\n",
    "# simulating the process of putting our model in production environment, and seeing new data other than the training one\n",
    "print(\"Simulating the process of putting our model in production environment, and seeing new data\")\n",
    "model.fit(x_train_scaled, y_train)\n",
    "# Make predictions on the test data\n",
    "y_pred = model.predict(x_test_scaled)\n",
    "\n",
    "# Evaluate the model\n",
    "accuracy = accuracy_score(y_test, y_pred)\n",
    "print(f'Accuracy: {accuracy:.2f}')"
   ]
  },
  {
   "cell_type": "markdown",
   "id": "108f1e62-cad3-45b0-9d3c-e5af15c520ab",
   "metadata": {},
   "source": [
    "# Running KNN Model Again"
   ]
  },
  {
   "cell_type": "code",
   "execution_count": 35,
   "id": "4ee3894e-3fcd-4d80-8c50-b96e0745d829",
   "metadata": {},
   "outputs": [
    {
     "name": "stdout",
     "output_type": "stream",
     "text": [
      "KNN Cross-Validation Scores: [0.85 0.85 0.84 0.85 0.84]\n",
      "KNN Mean CV Accuracy: 0.8460000000000001\n"
     ]
    }
   ],
   "source": [
    "knn_model = KNeighborsClassifier(n_neighbors=3)\n",
    "\n",
    "# For our training data, we will use cross-validation to ensure that our model doesn't overfit to only one split\n",
    "knn_cv_scores = cross_val_score(knn_model, x_train_scaled, y_train, cv=5)\n",
    "knn_cv_scores = np.round(knn_cv_scores, 2)\n",
    "print(\"KNN Cross-Validation Scores:\", knn_cv_scores)\n",
    "print(\"KNN Mean CV Accuracy:\", knn_cv_scores.mean())\n"
   ]
  },
  {
   "cell_type": "code",
   "execution_count": 36,
   "id": "b7244b52-f677-4143-be6c-13387ec8846c",
   "metadata": {},
   "outputs": [
    {
     "name": "stdout",
     "output_type": "stream",
     "text": [
      "Simulating the process of putting our model in production environment, and seeing new data\n",
      "Accuracy: 0.85\n"
     ]
    }
   ],
   "source": [
    "# simulating the process of putting our model in production environment, and seeing new data other than the training one\n",
    "print(\"Simulating the process of putting our model in production environment, and seeing new data\")\n",
    "\n",
    "knn_model.fit(x_train_scaled, y_train)\n",
    "# Make predictions on the scaled test data\n",
    "y_pred_knn = knn_model.predict(x_test_scaled)\n",
    "\n",
    "# Evaluate the KNN model\n",
    "accuracy_knn = accuracy_score(y_test, y_pred_knn)\n",
    "print(f'Accuracy: {accuracy_knn:.2f}')"
   ]
  },
  {
   "cell_type": "markdown",
   "id": "aa5eee09",
   "metadata": {},
   "source": [
    "# Running RandomForest model"
   ]
  },
  {
   "cell_type": "code",
   "execution_count": 37,
   "id": "fe9b65bb",
   "metadata": {},
   "outputs": [
    {
     "name": "stdout",
     "output_type": "stream",
     "text": [
      "Random Forest Cross-Validation Scores: [0.89 0.9  0.89 0.9  0.9 ]\n",
      "Random Forest Mean CV Accuracy: 0.8960000000000001\n"
     ]
    }
   ],
   "source": [
    "# Initialize the RandomForestClassifier\n",
    "rf_model = RandomForestClassifier()\n",
    "\n",
    "# Cross-validation to ensure the model doesn't overfit\n",
    "rf_cv_scores = cross_val_score(rf_model, x_train_scaled, y_train, cv=5)\n",
    "rf_cv_scores = np.round(rf_cv_scores, 2)\n",
    "\n",
    "print(\"Random Forest Cross-Validation Scores:\", rf_cv_scores)\n",
    "print(\"Random Forest Mean CV Accuracy:\", rf_cv_scores.mean())"
   ]
  },
  {
   "cell_type": "code",
   "execution_count": 38,
   "id": "76dced9b",
   "metadata": {},
   "outputs": [
    {
     "name": "stdout",
     "output_type": "stream",
     "text": [
      "Simulating the process of putting our model in production environment, and seeing new data\n",
      "Accuracy: 0.90\n"
     ]
    }
   ],
   "source": [
    "print(\"Simulating the process of putting our model in production environment, and seeing new data\")\n",
    "# Train the model on the training data\n",
    "rf_model.fit(x_train_scaled, y_train)\n",
    "\n",
    "# Predict using the test data\n",
    "y_pred = rf_model.predict(x_test_scaled)\n",
    "\n",
    "# Evaluate the model\n",
    "accuracy = accuracy_score(y_test, y_pred)\n",
    "print(f'Accuracy: {accuracy:.2f}')"
   ]
  },
  {
   "cell_type": "code",
   "execution_count": 39,
   "id": "ad113557-13eb-4ef1-8776-48917827af9e",
   "metadata": {},
   "outputs": [],
   "source": [
    "pickle.dump(rf_model, open('model.pkl', 'wb'))\n",
    "pickle.dump(scaler, open('scaler.pkl', 'wb'))"
   ]
  },
  {
   "cell_type": "code",
   "execution_count": 40,
   "id": "9b42784b-7787-4e60-bcb2-2283f0ef53c4",
   "metadata": {},
   "outputs": [
    {
     "name": "stdout",
     "output_type": "stream",
     "text": [
      "Index(['number of weekend nights', 'number of week nights', 'lead time', 'P-C',\n",
      "       'P-not-C', 'average price ', 'special requests', 'reservation_year',\n",
      "       'reservation_month', 'reservation_day', 'type of meal_Meal Plan 1',\n",
      "       'type of meal_Not Selected', 'room type_Room_Type 1',\n",
      "       'market segment type_Offline'],\n",
      "      dtype='object')\n"
     ]
    }
   ],
   "source": [
    "print(x_test.columns)"
   ]
  },
  {
   "cell_type": "code",
   "execution_count": 41,
   "id": "de46545b-f797-464c-8183-139c7676b8b4",
   "metadata": {},
   "outputs": [
    {
     "name": "stdout",
     "output_type": "stream",
     "text": [
      "number of weekend nights          2.00\n",
      "number of week nights             2.00\n",
      "lead time                       229.00\n",
      "P-C                               0.00\n",
      "P-not-C                           0.00\n",
      "average price                    80.75\n",
      "special requests                  0.00\n",
      "reservation_year               2018.00\n",
      "reservation_month                10.00\n",
      "reservation_day                  22.00\n",
      "type of meal_Meal Plan 1          1.00\n",
      "type of meal_Not Selected         0.00\n",
      "room type_Room_Type 1             1.00\n",
      "market segment type_Offline       0.00\n",
      "Name: 5254, dtype: float64\n",
      "--------------------\n",
      "[ 1.3749596  -0.13996881  1.76942261 -0.0646496  -0.08670301 -0.70146497\n",
      " -0.80988696  0.46722758  0.84484826  0.73479046  0.54980532 -0.4044135\n",
      "  0.53564216 -0.64459543]\n",
      "1\n",
      "-----------------\n",
      "1\n"
     ]
    }
   ],
   "source": [
    "print(x_test.iloc[45])\n",
    "print(\"--------------------\")\n",
    "print(x_test_scaled[45])\n",
    "print(y_pred[45])\n",
    "print(\"-----------------\")\n",
    "print(y_test[45])"
   ]
  },
  {
   "cell_type": "code",
   "execution_count": 42,
   "id": "330d4925-1003-4054-9dbd-ac3d74f95554",
   "metadata": {},
   "outputs": [
    {
     "name": "stdout",
     "output_type": "stream",
     "text": [
      "number of weekend nights          0.00\n",
      "number of week nights             1.00\n",
      "lead time                         1.00\n",
      "P-C                               0.00\n",
      "P-not-C                           2.00\n",
      "average price                    20.75\n",
      "special requests                  1.00\n",
      "reservation_year               2017.00\n",
      "reservation_month                10.00\n",
      "reservation_day                  13.00\n",
      "type of meal_Meal Plan 1          1.00\n",
      "type of meal_Not Selected         0.00\n",
      "room type_Room_Type 1             1.00\n",
      "market segment type_Offline       0.00\n",
      "Name: 32004, dtype: float64\n",
      "--------------------\n",
      "[-0.93259479 -0.91558804 -1.01696081 -0.0646496   1.00809945 -2.59570761\n",
      "  0.5318122  -2.13628229  0.84484826 -0.29700863  0.54980532 -0.4044135\n",
      "  0.53564216 -0.64459543]\n",
      "0\n",
      "-----------------\n",
      "0\n"
     ]
    }
   ],
   "source": [
    "print(x_test.iloc[5])\n",
    "print(\"--------------------\")\n",
    "print(x_test_scaled[5])\n",
    "print(y_pred[5])\n",
    "print(\"-----------------\")\n",
    "print(y_test[5])"
   ]
  },
  {
   "cell_type": "markdown",
   "id": "2b07cd23-3779-4c4e-99cb-5950c6408589",
   "metadata": {},
   "source": [
    "# Coclusion After Feature Extraction\n",
    "While the results indicate a minor decline in logistic regression accuracy, the constant accuracy in the KNN model and the reduced number of features suggest that the feature extraction process was somewhat successful. The key is to balance performance with complexity and to ensure that the models generalize well to unseen data. "
   ]
  }
 ],
 "metadata": {
  "kernelspec": {
   "display_name": "Python 3 (ipykernel)",
   "language": "python",
   "name": "python3"
  },
  "language_info": {
   "codemirror_mode": {
    "name": "ipython",
    "version": 3
   },
   "file_extension": ".py",
   "mimetype": "text/x-python",
   "name": "python",
   "nbconvert_exporter": "python",
   "pygments_lexer": "ipython3",
   "version": "3.10.12"
  }
 },
 "nbformat": 4,
 "nbformat_minor": 5
}
