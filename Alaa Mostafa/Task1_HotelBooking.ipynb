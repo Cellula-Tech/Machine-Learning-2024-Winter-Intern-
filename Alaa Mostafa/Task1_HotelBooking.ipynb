{
  "cells": [
    {
      "cell_type": "code",
      "execution_count": 16,
      "metadata": {
        "id": "Okt7xraHXPSC"
      },
      "outputs": [],
      "source": [
        "import pandas as pd\n",
        "import numpy as np\n",
        "import matplotlib.pyplot as plt\n",
        "import seaborn as sns\n",
        "import joblib as jb"
      ]
    },
    {
      "cell_type": "code",
      "execution_count": 18,
      "metadata": {
        "colab": {
          "base_uri": "https://localhost:8080/",
          "height": 365
        },
        "id": "6eqKjZC0Xavq",
        "outputId": "9bfec0ca-35d2-4e02-e589-866cbd62210d"
      },
      "outputs": [
        {
          "data": {
            "text/html": [
              "<div>\n",
              "<style scoped>\n",
              "    .dataframe tbody tr th:only-of-type {\n",
              "        vertical-align: middle;\n",
              "    }\n",
              "\n",
              "    .dataframe tbody tr th {\n",
              "        vertical-align: top;\n",
              "    }\n",
              "\n",
              "    .dataframe thead th {\n",
              "        text-align: right;\n",
              "    }\n",
              "</style>\n",
              "<table border=\"1\" class=\"dataframe\">\n",
              "  <thead>\n",
              "    <tr style=\"text-align: right;\">\n",
              "      <th></th>\n",
              "      <th>Booking_ID</th>\n",
              "      <th>number of adults</th>\n",
              "      <th>number of children</th>\n",
              "      <th>number of weekend nights</th>\n",
              "      <th>number of week nights</th>\n",
              "      <th>type of meal</th>\n",
              "      <th>car parking space</th>\n",
              "      <th>room type</th>\n",
              "      <th>lead time</th>\n",
              "      <th>market segment type</th>\n",
              "      <th>repeated</th>\n",
              "      <th>P-C</th>\n",
              "      <th>P-not-C</th>\n",
              "      <th>average price</th>\n",
              "      <th>special requests</th>\n",
              "      <th>date of reservation</th>\n",
              "      <th>booking status</th>\n",
              "      <th>Unnamed: 17</th>\n",
              "    </tr>\n",
              "  </thead>\n",
              "  <tbody>\n",
              "    <tr>\n",
              "      <th>0</th>\n",
              "      <td>INN00001</td>\n",
              "      <td>1</td>\n",
              "      <td>1</td>\n",
              "      <td>2</td>\n",
              "      <td>5</td>\n",
              "      <td>Meal Plan 1</td>\n",
              "      <td>0</td>\n",
              "      <td>Room_Type 1</td>\n",
              "      <td>224</td>\n",
              "      <td>Offline</td>\n",
              "      <td>0</td>\n",
              "      <td>0</td>\n",
              "      <td>0</td>\n",
              "      <td>88.00</td>\n",
              "      <td>0</td>\n",
              "      <td>10/2/2015</td>\n",
              "      <td>Not_Canceled</td>\n",
              "      <td>1.0</td>\n",
              "    </tr>\n",
              "    <tr>\n",
              "      <th>1</th>\n",
              "      <td>INN00002</td>\n",
              "      <td>1</td>\n",
              "      <td>0</td>\n",
              "      <td>1</td>\n",
              "      <td>3</td>\n",
              "      <td>Not Selected</td>\n",
              "      <td>0</td>\n",
              "      <td>Room_Type 1</td>\n",
              "      <td>5</td>\n",
              "      <td>Online</td>\n",
              "      <td>0</td>\n",
              "      <td>0</td>\n",
              "      <td>0</td>\n",
              "      <td>106.68</td>\n",
              "      <td>1</td>\n",
              "      <td>11/6/2018</td>\n",
              "      <td>Not_Canceled</td>\n",
              "      <td>NaN</td>\n",
              "    </tr>\n",
              "    <tr>\n",
              "      <th>2</th>\n",
              "      <td>INN00003</td>\n",
              "      <td>2</td>\n",
              "      <td>1</td>\n",
              "      <td>1</td>\n",
              "      <td>3</td>\n",
              "      <td>Meal Plan 1</td>\n",
              "      <td>0</td>\n",
              "      <td>Room_Type 1</td>\n",
              "      <td>1</td>\n",
              "      <td>Online</td>\n",
              "      <td>0</td>\n",
              "      <td>0</td>\n",
              "      <td>0</td>\n",
              "      <td>50.00</td>\n",
              "      <td>0</td>\n",
              "      <td>2/28/2018</td>\n",
              "      <td>Canceled</td>\n",
              "      <td>NaN</td>\n",
              "    </tr>\n",
              "    <tr>\n",
              "      <th>3</th>\n",
              "      <td>INN00004</td>\n",
              "      <td>1</td>\n",
              "      <td>0</td>\n",
              "      <td>0</td>\n",
              "      <td>2</td>\n",
              "      <td>Meal Plan 1</td>\n",
              "      <td>0</td>\n",
              "      <td>Room_Type 1</td>\n",
              "      <td>211</td>\n",
              "      <td>Online</td>\n",
              "      <td>0</td>\n",
              "      <td>0</td>\n",
              "      <td>0</td>\n",
              "      <td>100.00</td>\n",
              "      <td>1</td>\n",
              "      <td>5/20/2017</td>\n",
              "      <td>Canceled</td>\n",
              "      <td>NaN</td>\n",
              "    </tr>\n",
              "    <tr>\n",
              "      <th>4</th>\n",
              "      <td>INN00005</td>\n",
              "      <td>1</td>\n",
              "      <td>0</td>\n",
              "      <td>1</td>\n",
              "      <td>2</td>\n",
              "      <td>Not Selected</td>\n",
              "      <td>0</td>\n",
              "      <td>Room_Type 1</td>\n",
              "      <td>48</td>\n",
              "      <td>Online</td>\n",
              "      <td>0</td>\n",
              "      <td>0</td>\n",
              "      <td>0</td>\n",
              "      <td>77.00</td>\n",
              "      <td>0</td>\n",
              "      <td>4/11/2018</td>\n",
              "      <td>Canceled</td>\n",
              "      <td>NaN</td>\n",
              "    </tr>\n",
              "  </tbody>\n",
              "</table>\n",
              "</div>"
            ],
            "text/plain": [
              "  Booking_ID  number of adults  number of children  number of weekend nights  \\\n",
              "0   INN00001                 1                   1                         2   \n",
              "1   INN00002                 1                   0                         1   \n",
              "2   INN00003                 2                   1                         1   \n",
              "3   INN00004                 1                   0                         0   \n",
              "4   INN00005                 1                   0                         1   \n",
              "\n",
              "   number of week nights  type of meal  car parking space    room type  \\\n",
              "0                      5   Meal Plan 1                  0  Room_Type 1   \n",
              "1                      3  Not Selected                  0  Room_Type 1   \n",
              "2                      3   Meal Plan 1                  0  Room_Type 1   \n",
              "3                      2   Meal Plan 1                  0  Room_Type 1   \n",
              "4                      2  Not Selected                  0  Room_Type 1   \n",
              "\n",
              "   lead time market segment type  repeated  P-C  P-not-C  average price   \\\n",
              "0        224             Offline         0    0        0           88.00   \n",
              "1          5              Online         0    0        0          106.68   \n",
              "2          1              Online         0    0        0           50.00   \n",
              "3        211              Online         0    0        0          100.00   \n",
              "4         48              Online         0    0        0           77.00   \n",
              "\n",
              "   special requests date of reservation booking status  Unnamed: 17  \n",
              "0                 0           10/2/2015   Not_Canceled          1.0  \n",
              "1                 1           11/6/2018   Not_Canceled          NaN  \n",
              "2                 0           2/28/2018       Canceled          NaN  \n",
              "3                 1           5/20/2017       Canceled          NaN  \n",
              "4                 0           4/11/2018       Canceled          NaN  "
            ]
          },
          "execution_count": 18,
          "metadata": {},
          "output_type": "execute_result"
        }
      ],
      "source": [
        "# read the data\n",
        "data = pd.read_csv('first inten project.csv')\n",
        "data.head(5)"
      ]
    },
    {
      "cell_type": "code",
      "execution_count": 19,
      "metadata": {
        "colab": {
          "base_uri": "https://localhost:8080/"
        },
        "id": "NGberyS5X9p0",
        "outputId": "9b7295cc-4b2c-437b-c28a-d52cea603a76"
      },
      "outputs": [
        {
          "name": "stdout",
          "output_type": "stream",
          "text": [
            "<class 'pandas.core.frame.DataFrame'>\n",
            "RangeIndex: 36285 entries, 0 to 36284\n",
            "Data columns (total 18 columns):\n",
            " #   Column                    Non-Null Count  Dtype  \n",
            "---  ------                    --------------  -----  \n",
            " 0   Booking_ID                36285 non-null  object \n",
            " 1   number of adults          36285 non-null  int64  \n",
            " 2   number of children        36285 non-null  int64  \n",
            " 3   number of weekend nights  36285 non-null  int64  \n",
            " 4   number of week nights     36285 non-null  int64  \n",
            " 5   type of meal              36285 non-null  object \n",
            " 6   car parking space         36285 non-null  int64  \n",
            " 7   room type                 36285 non-null  object \n",
            " 8   lead time                 36285 non-null  int64  \n",
            " 9   market segment type       36285 non-null  object \n",
            " 10  repeated                  36285 non-null  int64  \n",
            " 11  P-C                       36285 non-null  int64  \n",
            " 12  P-not-C                   36285 non-null  int64  \n",
            " 13  average price             36285 non-null  float64\n",
            " 14  special requests          36285 non-null  int64  \n",
            " 15  date of reservation       36285 non-null  object \n",
            " 16  booking status            36285 non-null  object \n",
            " 17  Unnamed: 17               1 non-null      float64\n",
            "dtypes: float64(2), int64(10), object(6)\n",
            "memory usage: 5.0+ MB\n"
          ]
        },
        {
          "data": {
            "text/plain": [
              "(None, (36285, 18))"
            ]
          },
          "execution_count": 19,
          "metadata": {},
          "output_type": "execute_result"
        }
      ],
      "source": [
        "data.info(), data.shape"
      ]
    },
    {
      "cell_type": "code",
      "execution_count": 20,
      "metadata": {
        "colab": {
          "base_uri": "https://localhost:8080/",
          "height": 345
        },
        "id": "XT2ZHywoYl4y",
        "outputId": "c4494181-dfc9-4047-ca6c-485624e0be65"
      },
      "outputs": [
        {
          "data": {
            "text/html": [
              "<div>\n",
              "<style scoped>\n",
              "    .dataframe tbody tr th:only-of-type {\n",
              "        vertical-align: middle;\n",
              "    }\n",
              "\n",
              "    .dataframe tbody tr th {\n",
              "        vertical-align: top;\n",
              "    }\n",
              "\n",
              "    .dataframe thead th {\n",
              "        text-align: right;\n",
              "    }\n",
              "</style>\n",
              "<table border=\"1\" class=\"dataframe\">\n",
              "  <thead>\n",
              "    <tr style=\"text-align: right;\">\n",
              "      <th></th>\n",
              "      <th>number of adults</th>\n",
              "      <th>number of children</th>\n",
              "      <th>number of weekend nights</th>\n",
              "      <th>number of week nights</th>\n",
              "      <th>type of meal</th>\n",
              "      <th>car parking space</th>\n",
              "      <th>room type</th>\n",
              "      <th>lead time</th>\n",
              "      <th>market segment type</th>\n",
              "      <th>repeated</th>\n",
              "      <th>P-C</th>\n",
              "      <th>P-not-C</th>\n",
              "      <th>average price</th>\n",
              "      <th>special requests</th>\n",
              "      <th>date of reservation</th>\n",
              "      <th>booking status</th>\n",
              "    </tr>\n",
              "  </thead>\n",
              "  <tbody>\n",
              "    <tr>\n",
              "      <th>0</th>\n",
              "      <td>1</td>\n",
              "      <td>1</td>\n",
              "      <td>2</td>\n",
              "      <td>5</td>\n",
              "      <td>Meal Plan 1</td>\n",
              "      <td>0</td>\n",
              "      <td>Room_Type 1</td>\n",
              "      <td>224</td>\n",
              "      <td>Offline</td>\n",
              "      <td>0</td>\n",
              "      <td>0</td>\n",
              "      <td>0</td>\n",
              "      <td>88.00</td>\n",
              "      <td>0</td>\n",
              "      <td>10/2/2015</td>\n",
              "      <td>Not_Canceled</td>\n",
              "    </tr>\n",
              "    <tr>\n",
              "      <th>1</th>\n",
              "      <td>1</td>\n",
              "      <td>0</td>\n",
              "      <td>1</td>\n",
              "      <td>3</td>\n",
              "      <td>Not Selected</td>\n",
              "      <td>0</td>\n",
              "      <td>Room_Type 1</td>\n",
              "      <td>5</td>\n",
              "      <td>Online</td>\n",
              "      <td>0</td>\n",
              "      <td>0</td>\n",
              "      <td>0</td>\n",
              "      <td>106.68</td>\n",
              "      <td>1</td>\n",
              "      <td>11/6/2018</td>\n",
              "      <td>Not_Canceled</td>\n",
              "    </tr>\n",
              "    <tr>\n",
              "      <th>2</th>\n",
              "      <td>2</td>\n",
              "      <td>1</td>\n",
              "      <td>1</td>\n",
              "      <td>3</td>\n",
              "      <td>Meal Plan 1</td>\n",
              "      <td>0</td>\n",
              "      <td>Room_Type 1</td>\n",
              "      <td>1</td>\n",
              "      <td>Online</td>\n",
              "      <td>0</td>\n",
              "      <td>0</td>\n",
              "      <td>0</td>\n",
              "      <td>50.00</td>\n",
              "      <td>0</td>\n",
              "      <td>2/28/2018</td>\n",
              "      <td>Canceled</td>\n",
              "    </tr>\n",
              "    <tr>\n",
              "      <th>3</th>\n",
              "      <td>1</td>\n",
              "      <td>0</td>\n",
              "      <td>0</td>\n",
              "      <td>2</td>\n",
              "      <td>Meal Plan 1</td>\n",
              "      <td>0</td>\n",
              "      <td>Room_Type 1</td>\n",
              "      <td>211</td>\n",
              "      <td>Online</td>\n",
              "      <td>0</td>\n",
              "      <td>0</td>\n",
              "      <td>0</td>\n",
              "      <td>100.00</td>\n",
              "      <td>1</td>\n",
              "      <td>5/20/2017</td>\n",
              "      <td>Canceled</td>\n",
              "    </tr>\n",
              "    <tr>\n",
              "      <th>4</th>\n",
              "      <td>1</td>\n",
              "      <td>0</td>\n",
              "      <td>1</td>\n",
              "      <td>2</td>\n",
              "      <td>Not Selected</td>\n",
              "      <td>0</td>\n",
              "      <td>Room_Type 1</td>\n",
              "      <td>48</td>\n",
              "      <td>Online</td>\n",
              "      <td>0</td>\n",
              "      <td>0</td>\n",
              "      <td>0</td>\n",
              "      <td>77.00</td>\n",
              "      <td>0</td>\n",
              "      <td>4/11/2018</td>\n",
              "      <td>Canceled</td>\n",
              "    </tr>\n",
              "  </tbody>\n",
              "</table>\n",
              "</div>"
            ],
            "text/plain": [
              "   number of adults  number of children  number of weekend nights  \\\n",
              "0                 1                   1                         2   \n",
              "1                 1                   0                         1   \n",
              "2                 2                   1                         1   \n",
              "3                 1                   0                         0   \n",
              "4                 1                   0                         1   \n",
              "\n",
              "   number of week nights  type of meal  car parking space    room type  \\\n",
              "0                      5   Meal Plan 1                  0  Room_Type 1   \n",
              "1                      3  Not Selected                  0  Room_Type 1   \n",
              "2                      3   Meal Plan 1                  0  Room_Type 1   \n",
              "3                      2   Meal Plan 1                  0  Room_Type 1   \n",
              "4                      2  Not Selected                  0  Room_Type 1   \n",
              "\n",
              "   lead time market segment type  repeated  P-C  P-not-C  average price   \\\n",
              "0        224             Offline         0    0        0           88.00   \n",
              "1          5              Online         0    0        0          106.68   \n",
              "2          1              Online         0    0        0           50.00   \n",
              "3        211              Online         0    0        0          100.00   \n",
              "4         48              Online         0    0        0           77.00   \n",
              "\n",
              "   special requests date of reservation booking status  \n",
              "0                 0           10/2/2015   Not_Canceled  \n",
              "1                 1           11/6/2018   Not_Canceled  \n",
              "2                 0           2/28/2018       Canceled  \n",
              "3                 1           5/20/2017       Canceled  \n",
              "4                 0           4/11/2018       Canceled  "
            ]
          },
          "execution_count": 20,
          "metadata": {},
          "output_type": "execute_result"
        }
      ],
      "source": [
        "data.drop(['Unnamed: 17', 'Booking_ID'], axis= 1, inplace= True)\n",
        "data.head(5)"
      ]
    },
    {
      "cell_type": "markdown",
      "metadata": {
        "id": "siRzI5YbEspq"
      },
      "source": [
        "## Handling Labels\n"
      ]
    },
    {
      "cell_type": "code",
      "execution_count": 21,
      "metadata": {
        "colab": {
          "base_uri": "https://localhost:8080/",
          "height": 175
        },
        "id": "-TRfBeaBZddo",
        "outputId": "0ae4795e-8fc3-407c-f5e7-b138a6167607"
      },
      "outputs": [
        {
          "data": {
            "text/html": [
              "<div>\n",
              "<style scoped>\n",
              "    .dataframe tbody tr th:only-of-type {\n",
              "        vertical-align: middle;\n",
              "    }\n",
              "\n",
              "    .dataframe tbody tr th {\n",
              "        vertical-align: top;\n",
              "    }\n",
              "\n",
              "    .dataframe thead th {\n",
              "        text-align: right;\n",
              "    }\n",
              "</style>\n",
              "<table border=\"1\" class=\"dataframe\">\n",
              "  <thead>\n",
              "    <tr style=\"text-align: right;\">\n",
              "      <th></th>\n",
              "      <th>type of meal</th>\n",
              "      <th>room type</th>\n",
              "      <th>market segment type</th>\n",
              "      <th>date of reservation</th>\n",
              "      <th>booking status</th>\n",
              "    </tr>\n",
              "  </thead>\n",
              "  <tbody>\n",
              "    <tr>\n",
              "      <th>count</th>\n",
              "      <td>36285</td>\n",
              "      <td>36285</td>\n",
              "      <td>36285</td>\n",
              "      <td>36285</td>\n",
              "      <td>36285</td>\n",
              "    </tr>\n",
              "    <tr>\n",
              "      <th>unique</th>\n",
              "      <td>4</td>\n",
              "      <td>7</td>\n",
              "      <td>5</td>\n",
              "      <td>553</td>\n",
              "      <td>2</td>\n",
              "    </tr>\n",
              "    <tr>\n",
              "      <th>top</th>\n",
              "      <td>Meal Plan 1</td>\n",
              "      <td>Room_Type 1</td>\n",
              "      <td>Online</td>\n",
              "      <td>10/13/2018</td>\n",
              "      <td>Not_Canceled</td>\n",
              "    </tr>\n",
              "    <tr>\n",
              "      <th>freq</th>\n",
              "      <td>27842</td>\n",
              "      <td>28138</td>\n",
              "      <td>23221</td>\n",
              "      <td>254</td>\n",
              "      <td>24396</td>\n",
              "    </tr>\n",
              "  </tbody>\n",
              "</table>\n",
              "</div>"
            ],
            "text/plain": [
              "       type of meal    room type market segment type date of reservation  \\\n",
              "count         36285        36285               36285               36285   \n",
              "unique            4            7                   5                 553   \n",
              "top     Meal Plan 1  Room_Type 1              Online          10/13/2018   \n",
              "freq          27842        28138               23221                 254   \n",
              "\n",
              "       booking status  \n",
              "count           36285  \n",
              "unique              2  \n",
              "top      Not_Canceled  \n",
              "freq            24396  "
            ]
          },
          "execution_count": 21,
          "metadata": {},
          "output_type": "execute_result"
        }
      ],
      "source": [
        "data.describe(include= [object])"
      ]
    },
    {
      "cell_type": "code",
      "execution_count": 22,
      "metadata": {
        "colab": {
          "base_uri": "https://localhost:8080/"
        },
        "id": "bCZuptXXb8zB",
        "outputId": "b25bb29a-b736-4823-c1a8-3d01732b8e04"
      },
      "outputs": [
        {
          "data": {
            "text/plain": [
              "37"
            ]
          },
          "execution_count": 22,
          "metadata": {},
          "output_type": "execute_result"
        }
      ],
      "source": [
        "# convert date of reservation into date type\n",
        "data['date of reservation'] = pd.to_datetime(data['date of reservation'], format='mixed', errors='coerce')\n",
        "data['date of reservation'].isna().sum() # the null referes to 29-2-2018! 2018 is not a leap year."
      ]
    },
    {
      "cell_type": "code",
      "execution_count": 23,
      "metadata": {
        "colab": {
          "base_uri": "https://localhost:8080/"
        },
        "id": "IgU0fzmPSz5c",
        "outputId": "ca48bde8-45f1-4a3e-a32a-4eb92208fb38"
      },
      "outputs": [
        {
          "data": {
            "text/plain": [
              "0"
            ]
          },
          "execution_count": 23,
          "metadata": {},
          "output_type": "execute_result"
        }
      ],
      "source": [
        "# droping records with 29-2-2018 as it's not an actual date (plus most of the records with this date is not canceled which it doesn't make sense)\n",
        "# there's another option to convert it into 28 instead! bs i'm gonna drop them\n",
        "data.dropna(subset=['date of reservation'], inplace=True)\n",
        "data['date of reservation'].isna().sum()"
      ]
    },
    {
      "cell_type": "code",
      "execution_count": 24,
      "metadata": {
        "colab": {
          "base_uri": "https://localhost:8080/",
          "height": 345
        },
        "id": "JfXMdxtyOCCC",
        "outputId": "5a482f4f-3efc-4782-9bd3-3b274f33cece"
      },
      "outputs": [
        {
          "data": {
            "text/html": [
              "<div>\n",
              "<style scoped>\n",
              "    .dataframe tbody tr th:only-of-type {\n",
              "        vertical-align: middle;\n",
              "    }\n",
              "\n",
              "    .dataframe tbody tr th {\n",
              "        vertical-align: top;\n",
              "    }\n",
              "\n",
              "    .dataframe thead th {\n",
              "        text-align: right;\n",
              "    }\n",
              "</style>\n",
              "<table border=\"1\" class=\"dataframe\">\n",
              "  <thead>\n",
              "    <tr style=\"text-align: right;\">\n",
              "      <th></th>\n",
              "      <th>number of adults</th>\n",
              "      <th>number of children</th>\n",
              "      <th>number of weekend nights</th>\n",
              "      <th>number of week nights</th>\n",
              "      <th>type of meal</th>\n",
              "      <th>car parking space</th>\n",
              "      <th>room type</th>\n",
              "      <th>lead time</th>\n",
              "      <th>market segment type</th>\n",
              "      <th>repeated</th>\n",
              "      <th>P-C</th>\n",
              "      <th>P-not-C</th>\n",
              "      <th>average price</th>\n",
              "      <th>special requests</th>\n",
              "      <th>booking status</th>\n",
              "      <th>month</th>\n",
              "      <th>day</th>\n",
              "    </tr>\n",
              "  </thead>\n",
              "  <tbody>\n",
              "    <tr>\n",
              "      <th>0</th>\n",
              "      <td>1</td>\n",
              "      <td>1</td>\n",
              "      <td>2</td>\n",
              "      <td>5</td>\n",
              "      <td>Meal Plan 1</td>\n",
              "      <td>0</td>\n",
              "      <td>Room_Type 1</td>\n",
              "      <td>224</td>\n",
              "      <td>Offline</td>\n",
              "      <td>0</td>\n",
              "      <td>0</td>\n",
              "      <td>0</td>\n",
              "      <td>88.00</td>\n",
              "      <td>0</td>\n",
              "      <td>Not_Canceled</td>\n",
              "      <td>10</td>\n",
              "      <td>2</td>\n",
              "    </tr>\n",
              "    <tr>\n",
              "      <th>1</th>\n",
              "      <td>1</td>\n",
              "      <td>0</td>\n",
              "      <td>1</td>\n",
              "      <td>3</td>\n",
              "      <td>Not Selected</td>\n",
              "      <td>0</td>\n",
              "      <td>Room_Type 1</td>\n",
              "      <td>5</td>\n",
              "      <td>Online</td>\n",
              "      <td>0</td>\n",
              "      <td>0</td>\n",
              "      <td>0</td>\n",
              "      <td>106.68</td>\n",
              "      <td>1</td>\n",
              "      <td>Not_Canceled</td>\n",
              "      <td>11</td>\n",
              "      <td>6</td>\n",
              "    </tr>\n",
              "    <tr>\n",
              "      <th>2</th>\n",
              "      <td>2</td>\n",
              "      <td>1</td>\n",
              "      <td>1</td>\n",
              "      <td>3</td>\n",
              "      <td>Meal Plan 1</td>\n",
              "      <td>0</td>\n",
              "      <td>Room_Type 1</td>\n",
              "      <td>1</td>\n",
              "      <td>Online</td>\n",
              "      <td>0</td>\n",
              "      <td>0</td>\n",
              "      <td>0</td>\n",
              "      <td>50.00</td>\n",
              "      <td>0</td>\n",
              "      <td>Canceled</td>\n",
              "      <td>2</td>\n",
              "      <td>28</td>\n",
              "    </tr>\n",
              "    <tr>\n",
              "      <th>3</th>\n",
              "      <td>1</td>\n",
              "      <td>0</td>\n",
              "      <td>0</td>\n",
              "      <td>2</td>\n",
              "      <td>Meal Plan 1</td>\n",
              "      <td>0</td>\n",
              "      <td>Room_Type 1</td>\n",
              "      <td>211</td>\n",
              "      <td>Online</td>\n",
              "      <td>0</td>\n",
              "      <td>0</td>\n",
              "      <td>0</td>\n",
              "      <td>100.00</td>\n",
              "      <td>1</td>\n",
              "      <td>Canceled</td>\n",
              "      <td>5</td>\n",
              "      <td>20</td>\n",
              "    </tr>\n",
              "    <tr>\n",
              "      <th>4</th>\n",
              "      <td>1</td>\n",
              "      <td>0</td>\n",
              "      <td>1</td>\n",
              "      <td>2</td>\n",
              "      <td>Not Selected</td>\n",
              "      <td>0</td>\n",
              "      <td>Room_Type 1</td>\n",
              "      <td>48</td>\n",
              "      <td>Online</td>\n",
              "      <td>0</td>\n",
              "      <td>0</td>\n",
              "      <td>0</td>\n",
              "      <td>77.00</td>\n",
              "      <td>0</td>\n",
              "      <td>Canceled</td>\n",
              "      <td>4</td>\n",
              "      <td>11</td>\n",
              "    </tr>\n",
              "  </tbody>\n",
              "</table>\n",
              "</div>"
            ],
            "text/plain": [
              "   number of adults  number of children  number of weekend nights  \\\n",
              "0                 1                   1                         2   \n",
              "1                 1                   0                         1   \n",
              "2                 2                   1                         1   \n",
              "3                 1                   0                         0   \n",
              "4                 1                   0                         1   \n",
              "\n",
              "   number of week nights  type of meal  car parking space    room type  \\\n",
              "0                      5   Meal Plan 1                  0  Room_Type 1   \n",
              "1                      3  Not Selected                  0  Room_Type 1   \n",
              "2                      3   Meal Plan 1                  0  Room_Type 1   \n",
              "3                      2   Meal Plan 1                  0  Room_Type 1   \n",
              "4                      2  Not Selected                  0  Room_Type 1   \n",
              "\n",
              "   lead time market segment type  repeated  P-C  P-not-C  average price   \\\n",
              "0        224             Offline         0    0        0           88.00   \n",
              "1          5              Online         0    0        0          106.68   \n",
              "2          1              Online         0    0        0           50.00   \n",
              "3        211              Online         0    0        0          100.00   \n",
              "4         48              Online         0    0        0           77.00   \n",
              "\n",
              "   special requests booking status  month  day  \n",
              "0                 0   Not_Canceled     10    2  \n",
              "1                 1   Not_Canceled     11    6  \n",
              "2                 0       Canceled      2   28  \n",
              "3                 1       Canceled      5   20  \n",
              "4                 0       Canceled      4   11  "
            ]
          },
          "execution_count": 24,
          "metadata": {},
          "output_type": "execute_result"
        }
      ],
      "source": [
        "# split the date of reservation into month and day (to find if the month and the day has something to do with booking status)\n",
        "data['month'] = data['date of reservation'].dt.month\n",
        "data['day'] = data['date of reservation'].dt.day\n",
        "data.drop('date of reservation', axis= 1, inplace= True)\n",
        "data.head(5)"
      ]
    },
    {
      "cell_type": "code",
      "execution_count": 25,
      "metadata": {
        "colab": {
          "base_uri": "https://localhost:8080/"
        },
        "collapsed": true,
        "id": "Jzj6F2LUai-p",
        "outputId": "ea00b96d-4c56-4f02-a08f-638dcd6c4562"
      },
      "outputs": [],
      "source": [
        "import category_encoders as ce"
      ]
    },
    {
      "cell_type": "code",
      "execution_count": 26,
      "metadata": {
        "colab": {
          "base_uri": "https://localhost:8080/"
        },
        "id": "kreGwtjSGNid",
        "outputId": "a78e9055-9271-454f-f2ca-2db0c6370760"
      },
      "outputs": [
        {
          "name": "stdout",
          "output_type": "stream",
          "text": [
            "Market Segment Types: ['Offline' 'Online' 'Corporate' 'Aviation' 'Complementary'].\n",
            "\n",
            "Room Types: ['Room_Type 1' 'Room_Type 4' 'Room_Type 2' 'Room_Type 6' 'Room_Type 5'\n",
            " 'Room_Type 7' 'Room_Type 3'].\n",
            "\n",
            "Meal Types ['Meal Plan 1' 'Not Selected' 'Meal Plan 2' 'Meal Plan 3']\n"
          ]
        }
      ],
      "source": [
        "print(f'''Market Segment Types: {data['market segment type'].unique()}.\n",
        "\\nRoom Types: {data['room type'].unique()}.\n",
        "\\nMeal Types {data['type of meal'].unique()}''')"
      ]
    },
    {
      "cell_type": "markdown",
      "metadata": {
        "id": "3CDSMoPcVXF_"
      },
      "source": [
        "5 cat -> 3 col (1 0 1)\n",
        "7 cat -> 3 col (1 1 1)\n",
        "4 cat -> 3 col (1 0 0)\n"
      ]
    },
    {
      "cell_type": "code",
      "execution_count": 27,
      "metadata": {},
      "outputs": [],
      "source": [
        "#encode lables\n",
        "binary_encoder = ce.BinaryEncoder(cols=['market segment type', 'room type', 'type of meal'])\n",
        "data = binary_encoder.fit_transform(data)"
      ]
    },
    {
      "cell_type": "code",
      "execution_count": 28,
      "metadata": {
        "colab": {
          "base_uri": "https://localhost:8080/"
        },
        "id": "DpbG-bjDJ1dF",
        "outputId": "271f17ca-be9f-40dd-d9a8-c08651f95b94"
      },
      "outputs": [
        {
          "data": {
            "text/plain": [
              "Index(['number of adults', 'number of children', 'number of weekend nights',\n",
              "       'number of week nights', 'type of meal_0', 'type of meal_1',\n",
              "       'type of meal_2', 'car parking space', 'room type_0', 'room type_1',\n",
              "       'room type_2', 'lead time', 'market segment type_0',\n",
              "       'market segment type_1', 'market segment type_2', 'repeated', 'P-C',\n",
              "       'P-not-C', 'average price ', 'special requests', 'booking status',\n",
              "       'month', 'day'],\n",
              "      dtype='object')"
            ]
          },
          "execution_count": 28,
          "metadata": {},
          "output_type": "execute_result"
        }
      ],
      "source": [
        "data.columns"
      ]
    },
    {
      "cell_type": "code",
      "execution_count": 29,
      "metadata": {
        "colab": {
          "base_uri": "https://localhost:8080/",
          "height": 178
        },
        "id": "TkclnXtp4Whp",
        "outputId": "7cb543aa-f4bf-419b-d803-abdbe161e04a"
      },
      "outputs": [
        {
          "data": {
            "text/plain": [
              "booking status\n",
              "Not_Canceled    24366\n",
              "Canceled        11882\n",
              "Name: count, dtype: int64"
            ]
          },
          "execution_count": 29,
          "metadata": {},
          "output_type": "execute_result"
        }
      ],
      "source": [
        "data['booking status'].value_counts()"
      ]
    },
    {
      "cell_type": "code",
      "execution_count": 30,
      "metadata": {
        "collapsed": true,
        "id": "LL5friGeJYbq"
      },
      "outputs": [
        {
          "data": {
            "text/html": [
              "<div>\n",
              "<style scoped>\n",
              "    .dataframe tbody tr th:only-of-type {\n",
              "        vertical-align: middle;\n",
              "    }\n",
              "\n",
              "    .dataframe tbody tr th {\n",
              "        vertical-align: top;\n",
              "    }\n",
              "\n",
              "    .dataframe thead th {\n",
              "        text-align: right;\n",
              "    }\n",
              "</style>\n",
              "<table border=\"1\" class=\"dataframe\">\n",
              "  <thead>\n",
              "    <tr style=\"text-align: right;\">\n",
              "      <th></th>\n",
              "      <th>number of adults</th>\n",
              "      <th>number of children</th>\n",
              "      <th>number of weekend nights</th>\n",
              "      <th>number of week nights</th>\n",
              "      <th>type of meal_0</th>\n",
              "      <th>type of meal_1</th>\n",
              "      <th>type of meal_2</th>\n",
              "      <th>car parking space</th>\n",
              "      <th>room type_0</th>\n",
              "      <th>room type_1</th>\n",
              "      <th>...</th>\n",
              "      <th>market segment type_1</th>\n",
              "      <th>market segment type_2</th>\n",
              "      <th>repeated</th>\n",
              "      <th>P-C</th>\n",
              "      <th>P-not-C</th>\n",
              "      <th>average price</th>\n",
              "      <th>special requests</th>\n",
              "      <th>booking status</th>\n",
              "      <th>month</th>\n",
              "      <th>day</th>\n",
              "    </tr>\n",
              "  </thead>\n",
              "  <tbody>\n",
              "    <tr>\n",
              "      <th>0</th>\n",
              "      <td>1</td>\n",
              "      <td>1</td>\n",
              "      <td>2</td>\n",
              "      <td>5</td>\n",
              "      <td>0</td>\n",
              "      <td>0</td>\n",
              "      <td>1</td>\n",
              "      <td>0</td>\n",
              "      <td>0</td>\n",
              "      <td>0</td>\n",
              "      <td>...</td>\n",
              "      <td>0</td>\n",
              "      <td>1</td>\n",
              "      <td>0</td>\n",
              "      <td>0</td>\n",
              "      <td>0</td>\n",
              "      <td>88.00</td>\n",
              "      <td>0</td>\n",
              "      <td>1</td>\n",
              "      <td>10</td>\n",
              "      <td>2</td>\n",
              "    </tr>\n",
              "    <tr>\n",
              "      <th>1</th>\n",
              "      <td>1</td>\n",
              "      <td>0</td>\n",
              "      <td>1</td>\n",
              "      <td>3</td>\n",
              "      <td>0</td>\n",
              "      <td>1</td>\n",
              "      <td>0</td>\n",
              "      <td>0</td>\n",
              "      <td>0</td>\n",
              "      <td>0</td>\n",
              "      <td>...</td>\n",
              "      <td>1</td>\n",
              "      <td>0</td>\n",
              "      <td>0</td>\n",
              "      <td>0</td>\n",
              "      <td>0</td>\n",
              "      <td>106.68</td>\n",
              "      <td>1</td>\n",
              "      <td>1</td>\n",
              "      <td>11</td>\n",
              "      <td>6</td>\n",
              "    </tr>\n",
              "    <tr>\n",
              "      <th>2</th>\n",
              "      <td>2</td>\n",
              "      <td>1</td>\n",
              "      <td>1</td>\n",
              "      <td>3</td>\n",
              "      <td>0</td>\n",
              "      <td>0</td>\n",
              "      <td>1</td>\n",
              "      <td>0</td>\n",
              "      <td>0</td>\n",
              "      <td>0</td>\n",
              "      <td>...</td>\n",
              "      <td>1</td>\n",
              "      <td>0</td>\n",
              "      <td>0</td>\n",
              "      <td>0</td>\n",
              "      <td>0</td>\n",
              "      <td>50.00</td>\n",
              "      <td>0</td>\n",
              "      <td>0</td>\n",
              "      <td>2</td>\n",
              "      <td>28</td>\n",
              "    </tr>\n",
              "    <tr>\n",
              "      <th>3</th>\n",
              "      <td>1</td>\n",
              "      <td>0</td>\n",
              "      <td>0</td>\n",
              "      <td>2</td>\n",
              "      <td>0</td>\n",
              "      <td>0</td>\n",
              "      <td>1</td>\n",
              "      <td>0</td>\n",
              "      <td>0</td>\n",
              "      <td>0</td>\n",
              "      <td>...</td>\n",
              "      <td>1</td>\n",
              "      <td>0</td>\n",
              "      <td>0</td>\n",
              "      <td>0</td>\n",
              "      <td>0</td>\n",
              "      <td>100.00</td>\n",
              "      <td>1</td>\n",
              "      <td>0</td>\n",
              "      <td>5</td>\n",
              "      <td>20</td>\n",
              "    </tr>\n",
              "    <tr>\n",
              "      <th>4</th>\n",
              "      <td>1</td>\n",
              "      <td>0</td>\n",
              "      <td>1</td>\n",
              "      <td>2</td>\n",
              "      <td>0</td>\n",
              "      <td>1</td>\n",
              "      <td>0</td>\n",
              "      <td>0</td>\n",
              "      <td>0</td>\n",
              "      <td>0</td>\n",
              "      <td>...</td>\n",
              "      <td>1</td>\n",
              "      <td>0</td>\n",
              "      <td>0</td>\n",
              "      <td>0</td>\n",
              "      <td>0</td>\n",
              "      <td>77.00</td>\n",
              "      <td>0</td>\n",
              "      <td>0</td>\n",
              "      <td>4</td>\n",
              "      <td>11</td>\n",
              "    </tr>\n",
              "  </tbody>\n",
              "</table>\n",
              "<p>5 rows × 23 columns</p>\n",
              "</div>"
            ],
            "text/plain": [
              "   number of adults  number of children  number of weekend nights  \\\n",
              "0                 1                   1                         2   \n",
              "1                 1                   0                         1   \n",
              "2                 2                   1                         1   \n",
              "3                 1                   0                         0   \n",
              "4                 1                   0                         1   \n",
              "\n",
              "   number of week nights  type of meal_0  type of meal_1  type of meal_2  \\\n",
              "0                      5               0               0               1   \n",
              "1                      3               0               1               0   \n",
              "2                      3               0               0               1   \n",
              "3                      2               0               0               1   \n",
              "4                      2               0               1               0   \n",
              "\n",
              "   car parking space  room type_0  room type_1  ...  market segment type_1  \\\n",
              "0                  0            0            0  ...                      0   \n",
              "1                  0            0            0  ...                      1   \n",
              "2                  0            0            0  ...                      1   \n",
              "3                  0            0            0  ...                      1   \n",
              "4                  0            0            0  ...                      1   \n",
              "\n",
              "   market segment type_2  repeated  P-C  P-not-C  average price   \\\n",
              "0                      1         0    0        0           88.00   \n",
              "1                      0         0    0        0          106.68   \n",
              "2                      0         0    0        0           50.00   \n",
              "3                      0         0    0        0          100.00   \n",
              "4                      0         0    0        0           77.00   \n",
              "\n",
              "   special requests  booking status  month  day  \n",
              "0                 0               1     10    2  \n",
              "1                 1               1     11    6  \n",
              "2                 0               0      2   28  \n",
              "3                 1               0      5   20  \n",
              "4                 0               0      4   11  \n",
              "\n",
              "[5 rows x 23 columns]"
            ]
          },
          "execution_count": 30,
          "metadata": {},
          "output_type": "execute_result"
        }
      ],
      "source": [
        "# label encoding for the target\n",
        "from sklearn.preprocessing import LabelEncoder\n",
        "le = LabelEncoder()\n",
        "data['booking status'] = le.fit_transform(data['booking status'])\n",
        "data.head(5)\n"
      ]
    },
    {
      "cell_type": "markdown",
      "metadata": {
        "id": "3ef7xbdsWMbO"
      },
      "source": [
        "## Handling Numericals\n"
      ]
    },
    {
      "cell_type": "code",
      "execution_count": 31,
      "metadata": {
        "id": "SIDo4toK1QuD"
      },
      "outputs": [],
      "source": [
        "cat = ['type of meal_0', 'type of meal_1', 'type of meal_2', 'room type_0', 'room type_1', 'room type_2', 'market segment type_0',\n",
        "   'market segment type_1', 'market segment type_2', 'booking status', 'repeated', 'car parking space']"
      ]
    },
    {
      "cell_type": "code",
      "execution_count": 32,
      "metadata": {
        "colab": {
          "base_uri": "https://localhost:8080/",
          "height": 355
        },
        "id": "9Bg2MJRpKoXg",
        "outputId": "6df3b3b9-7f46-4c14-aa92-39467d6cab87"
      },
      "outputs": [
        {
          "data": {
            "text/html": [
              "<div>\n",
              "<style scoped>\n",
              "    .dataframe tbody tr th:only-of-type {\n",
              "        vertical-align: middle;\n",
              "    }\n",
              "\n",
              "    .dataframe tbody tr th {\n",
              "        vertical-align: top;\n",
              "    }\n",
              "\n",
              "    .dataframe thead th {\n",
              "        text-align: right;\n",
              "    }\n",
              "</style>\n",
              "<table border=\"1\" class=\"dataframe\">\n",
              "  <thead>\n",
              "    <tr style=\"text-align: right;\">\n",
              "      <th></th>\n",
              "      <th>number of adults</th>\n",
              "      <th>number of children</th>\n",
              "      <th>number of weekend nights</th>\n",
              "      <th>number of week nights</th>\n",
              "      <th>lead time</th>\n",
              "      <th>P-C</th>\n",
              "      <th>P-not-C</th>\n",
              "      <th>average price</th>\n",
              "      <th>special requests</th>\n",
              "      <th>month</th>\n",
              "      <th>day</th>\n",
              "    </tr>\n",
              "  </thead>\n",
              "  <tbody>\n",
              "    <tr>\n",
              "      <th>count</th>\n",
              "      <td>36248.000000</td>\n",
              "      <td>36248.000000</td>\n",
              "      <td>36248.000000</td>\n",
              "      <td>36248.000000</td>\n",
              "      <td>36248.000000</td>\n",
              "      <td>36248.000000</td>\n",
              "      <td>36248.000000</td>\n",
              "      <td>36248.000000</td>\n",
              "      <td>36248.000000</td>\n",
              "      <td>36248.000000</td>\n",
              "      <td>36248.000000</td>\n",
              "    </tr>\n",
              "    <tr>\n",
              "      <th>mean</th>\n",
              "      <td>1.845178</td>\n",
              "      <td>0.105302</td>\n",
              "      <td>0.810445</td>\n",
              "      <td>2.204508</td>\n",
              "      <td>85.282360</td>\n",
              "      <td>0.023339</td>\n",
              "      <td>0.152919</td>\n",
              "      <td>103.435350</td>\n",
              "      <td>0.620034</td>\n",
              "      <td>7.429348</td>\n",
              "      <td>15.583011</td>\n",
              "    </tr>\n",
              "    <tr>\n",
              "      <th>std</th>\n",
              "      <td>0.518671</td>\n",
              "      <td>0.402597</td>\n",
              "      <td>0.870938</td>\n",
              "      <td>1.410825</td>\n",
              "      <td>85.961536</td>\n",
              "      <td>0.368432</td>\n",
              "      <td>1.753126</td>\n",
              "      <td>35.081308</td>\n",
              "      <td>0.786429</td>\n",
              "      <td>3.066604</td>\n",
              "      <td>8.734280</td>\n",
              "    </tr>\n",
              "    <tr>\n",
              "      <th>min</th>\n",
              "      <td>0.000000</td>\n",
              "      <td>0.000000</td>\n",
              "      <td>0.000000</td>\n",
              "      <td>0.000000</td>\n",
              "      <td>0.000000</td>\n",
              "      <td>0.000000</td>\n",
              "      <td>0.000000</td>\n",
              "      <td>0.000000</td>\n",
              "      <td>0.000000</td>\n",
              "      <td>1.000000</td>\n",
              "      <td>1.000000</td>\n",
              "    </tr>\n",
              "    <tr>\n",
              "      <th>25%</th>\n",
              "      <td>2.000000</td>\n",
              "      <td>0.000000</td>\n",
              "      <td>0.000000</td>\n",
              "      <td>1.000000</td>\n",
              "      <td>17.000000</td>\n",
              "      <td>0.000000</td>\n",
              "      <td>0.000000</td>\n",
              "      <td>80.300000</td>\n",
              "      <td>0.000000</td>\n",
              "      <td>5.000000</td>\n",
              "      <td>8.000000</td>\n",
              "    </tr>\n",
              "    <tr>\n",
              "      <th>50%</th>\n",
              "      <td>2.000000</td>\n",
              "      <td>0.000000</td>\n",
              "      <td>1.000000</td>\n",
              "      <td>2.000000</td>\n",
              "      <td>57.000000</td>\n",
              "      <td>0.000000</td>\n",
              "      <td>0.000000</td>\n",
              "      <td>99.450000</td>\n",
              "      <td>0.000000</td>\n",
              "      <td>8.000000</td>\n",
              "      <td>16.000000</td>\n",
              "    </tr>\n",
              "    <tr>\n",
              "      <th>75%</th>\n",
              "      <td>2.000000</td>\n",
              "      <td>0.000000</td>\n",
              "      <td>2.000000</td>\n",
              "      <td>3.000000</td>\n",
              "      <td>126.000000</td>\n",
              "      <td>0.000000</td>\n",
              "      <td>0.000000</td>\n",
              "      <td>120.000000</td>\n",
              "      <td>1.000000</td>\n",
              "      <td>10.000000</td>\n",
              "      <td>23.000000</td>\n",
              "    </tr>\n",
              "    <tr>\n",
              "      <th>max</th>\n",
              "      <td>4.000000</td>\n",
              "      <td>10.000000</td>\n",
              "      <td>7.000000</td>\n",
              "      <td>17.000000</td>\n",
              "      <td>443.000000</td>\n",
              "      <td>13.000000</td>\n",
              "      <td>58.000000</td>\n",
              "      <td>540.000000</td>\n",
              "      <td>5.000000</td>\n",
              "      <td>12.000000</td>\n",
              "      <td>31.000000</td>\n",
              "    </tr>\n",
              "  </tbody>\n",
              "</table>\n",
              "</div>"
            ],
            "text/plain": [
              "       number of adults  number of children  number of weekend nights  \\\n",
              "count      36248.000000        36248.000000              36248.000000   \n",
              "mean           1.845178            0.105302                  0.810445   \n",
              "std            0.518671            0.402597                  0.870938   \n",
              "min            0.000000            0.000000                  0.000000   \n",
              "25%            2.000000            0.000000                  0.000000   \n",
              "50%            2.000000            0.000000                  1.000000   \n",
              "75%            2.000000            0.000000                  2.000000   \n",
              "max            4.000000           10.000000                  7.000000   \n",
              "\n",
              "       number of week nights     lead time           P-C       P-not-C  \\\n",
              "count           36248.000000  36248.000000  36248.000000  36248.000000   \n",
              "mean                2.204508     85.282360      0.023339      0.152919   \n",
              "std                 1.410825     85.961536      0.368432      1.753126   \n",
              "min                 0.000000      0.000000      0.000000      0.000000   \n",
              "25%                 1.000000     17.000000      0.000000      0.000000   \n",
              "50%                 2.000000     57.000000      0.000000      0.000000   \n",
              "75%                 3.000000    126.000000      0.000000      0.000000   \n",
              "max                17.000000    443.000000     13.000000     58.000000   \n",
              "\n",
              "       average price   special requests         month           day  \n",
              "count    36248.000000      36248.000000  36248.000000  36248.000000  \n",
              "mean       103.435350          0.620034      7.429348     15.583011  \n",
              "std         35.081308          0.786429      3.066604      8.734280  \n",
              "min          0.000000          0.000000      1.000000      1.000000  \n",
              "25%         80.300000          0.000000      5.000000      8.000000  \n",
              "50%         99.450000          0.000000      8.000000     16.000000  \n",
              "75%        120.000000          1.000000     10.000000     23.000000  \n",
              "max        540.000000          5.000000     12.000000     31.000000  "
            ]
          },
          "execution_count": 32,
          "metadata": {},
          "output_type": "execute_result"
        }
      ],
      "source": [
        "numerical_col = [col for col in data.columns if col not in cat]\n",
        "data[numerical_col].describe()\n"
      ]
    },
    {
      "cell_type": "code",
      "execution_count": 33,
      "metadata": {},
      "outputs": [
        {
          "data": {
            "text/plain": [
              "['number of adults',\n",
              " 'number of children',\n",
              " 'number of weekend nights',\n",
              " 'number of week nights',\n",
              " 'lead time',\n",
              " 'P-C',\n",
              " 'P-not-C',\n",
              " 'average price ',\n",
              " 'special requests',\n",
              " 'month',\n",
              " 'day']"
            ]
          },
          "execution_count": 33,
          "metadata": {},
          "output_type": "execute_result"
        }
      ],
      "source": [
        "numerical_col"
      ]
    },
    {
      "cell_type": "code",
      "execution_count": 34,
      "metadata": {
        "id": "Aipcl-gZzlLP"
      },
      "outputs": [],
      "source": [
        "from sklearn.preprocessing import StandardScaler\n",
        "scaler = StandardScaler()\n",
        "\n",
        "data[numerical_col] = scaler.fit_transform(data[numerical_col])\n"
      ]
    },
    {
      "cell_type": "markdown",
      "metadata": {
        "id": "bDbQBz1C6q2p"
      },
      "source": [
        "# Train the model"
      ]
    },
    {
      "cell_type": "code",
      "execution_count": 35,
      "metadata": {
        "id": "HpvSkPSL6qnR"
      },
      "outputs": [],
      "source": [
        "from sklearn.model_selection import GridSearchCV\n",
        "from sklearn.linear_model import LogisticRegression\n",
        "from sklearn.neighbors import KNeighborsClassifier\n",
        "\n",
        "from sklearn.tree import DecisionTreeClassifier\n",
        "from sklearn.ensemble import RandomForestClassifier\n",
        "from sklearn.model_selection import train_test_split\n",
        "from sklearn.metrics import accuracy_score, confusion_matrix, classification_report"
      ]
    },
    {
      "cell_type": "code",
      "execution_count": 36,
      "metadata": {
        "id": "2xVx-VhV6_j2"
      },
      "outputs": [],
      "source": [
        "X = data.drop('booking status', axis= 1)\n",
        "y = data['booking status']\n",
        "X_train, X_test, y_train, y_test = train_test_split(X, y, test_size=0.2, random_state=42)"
      ]
    },
    {
      "cell_type": "code",
      "execution_count": 37,
      "metadata": {
        "colab": {
          "base_uri": "https://localhost:8080/"
        },
        "id": "eLbYYMhs46uZ",
        "outputId": "8469fcc7-ce9e-45d5-d031-9ab22dc9a2ab"
      },
      "outputs": [
        {
          "name": "stdout",
          "output_type": "stream",
          "text": [
            "Fitting 5 folds for each of 50 candidates, totalling 250 fits\n",
            "Best parameters for Logistic Regression: {'C': 10, 'max_iter': 50, 'penalty': 'l1'}\n",
            "Logistic Regression Accuracy: 0.8045517241379311\n",
            "Confusion Matrix:\n",
            " [[1458  911]\n",
            " [ 506 4375]]\n",
            "Classification Report:\n",
            "               precision    recall  f1-score   support\n",
            "\n",
            "           0       0.74      0.62      0.67      2369\n",
            "           1       0.83      0.90      0.86      4881\n",
            "\n",
            "    accuracy                           0.80      7250\n",
            "   macro avg       0.79      0.76      0.77      7250\n",
            "weighted avg       0.80      0.80      0.80      7250\n",
            "\n"
          ]
        }
      ],
      "source": [
        "# Logistic Regression\n",
        "# -- Train\n",
        "logreg_param_grid = [\n",
        "    {'C': [0.01, 0.1, 1, 10, 100], 'penalty': ['l1', 'l2'], 'max_iter': [50, 150, 300, 500, 1000]},\n",
        "]\n",
        "\n",
        "logreg = LogisticRegression(solver= 'liblinear', random_state = 42)\n",
        "logreg_grid = GridSearchCV(logreg, logreg_param_grid, cv=5, verbose=1, n_jobs=-1)\n",
        "logreg_grid.fit(X_train, y_train)\n",
        "\n",
        "print(\"Best parameters for Logistic Regression:\", logreg_grid.best_params_)\n",
        "\n",
        "# -- Test\n",
        "y_pred_logreg = logreg_grid.predict(X_test)\n",
        "accuracy_logreg = accuracy_score(y_test, y_pred_logreg)\n",
        "print(\"Logistic Regression Accuracy:\", accuracy_logreg)\n",
        "print(\"Confusion Matrix:\\n\", confusion_matrix(y_test, y_pred_logreg))\n",
        "print(\"Classification Report:\\n\", classification_report(y_test, y_pred_logreg))\n"
      ]
    },
    {
      "cell_type": "code",
      "execution_count": 38,
      "metadata": {
        "colab": {
          "base_uri": "https://localhost:8080/"
        },
        "id": "uA1tHOXQ49T6",
        "outputId": "896daded-ea93-46d6-815b-cdf825f0c1d7"
      },
      "outputs": [
        {
          "name": "stdout",
          "output_type": "stream",
          "text": [
            "Fitting 5 folds for each of 5 candidates, totalling 25 fits\n"
          ]
        },
        {
          "name": "stdout",
          "output_type": "stream",
          "text": [
            "Best parameters for KNN: {'n_neighbors': 5}\n",
            "KNN Accuracy: 0.8453793103448276\n",
            "Confusion Matrix:\n",
            " [[1764  605]\n",
            " [ 516 4365]]\n",
            "Classification Report:\n",
            "               precision    recall  f1-score   support\n",
            "\n",
            "           0       0.77      0.74      0.76      2369\n",
            "           1       0.88      0.89      0.89      4881\n",
            "\n",
            "    accuracy                           0.85      7250\n",
            "   macro avg       0.83      0.82      0.82      7250\n",
            "weighted avg       0.84      0.85      0.84      7250\n",
            "\n"
          ]
        }
      ],
      "source": [
        "# KNN\n",
        "# -- Train\n",
        "knn_param_grid = {\n",
        "    'n_neighbors': [3, 5, 7, 9, 11],\n",
        "}\n",
        "knn = KNeighborsClassifier()\n",
        "knn_grid = GridSearchCV(knn, knn_param_grid, cv=5, verbose=1, n_jobs=-1)\n",
        "knn_grid.fit(X_train, y_train)\n",
        "\n",
        "print(\"Best parameters for KNN:\", knn_grid.best_params_)\n",
        "\n",
        "# -- Test\n",
        "y_pred_knn = knn_grid.predict(X_test)\n",
        "accuracy_knn = accuracy_score(y_test, y_pred_knn)\n",
        "print(\"KNN Accuracy:\", accuracy_knn)\n",
        "print(\"Confusion Matrix:\\n\", confusion_matrix(y_test, y_pred_knn))\n",
        "print(\"Classification Report:\\n\", classification_report(y_test, y_pred_knn))\n"
      ]
    },
    {
      "cell_type": "code",
      "execution_count": 39,
      "metadata": {
        "colab": {
          "base_uri": "https://localhost:8080/"
        },
        "id": "Dsi8Ljn75Ap7",
        "outputId": "bef5a4a4-d70c-4e61-be6a-da169c8e227a"
      },
      "outputs": [
        {
          "name": "stdout",
          "output_type": "stream",
          "text": [
            "Fitting 5 folds for each of 12 candidates, totalling 60 fits\n",
            "Best parameters for Decision Tree: {'max_depth': 10, 'min_samples_split': 5}\n",
            "Decision Tree Accuracy: 0.8691034482758621\n",
            "Confusion Matrix:\n",
            " [[1853  516]\n",
            " [ 433 4448]]\n",
            "Classification Report:\n",
            "               precision    recall  f1-score   support\n",
            "\n",
            "           0       0.81      0.78      0.80      2369\n",
            "           1       0.90      0.91      0.90      4881\n",
            "\n",
            "    accuracy                           0.87      7250\n",
            "   macro avg       0.85      0.85      0.85      7250\n",
            "weighted avg       0.87      0.87      0.87      7250\n",
            "\n"
          ]
        }
      ],
      "source": [
        "# Decision Tree\n",
        "# -- Train\n",
        "dtree_param_grid = {\n",
        "    'max_depth': [3, 5, 10, None],\n",
        "    'min_samples_split': [2, 5, 10],\n",
        "}\n",
        "dtree = DecisionTreeClassifier(random_state = 42)\n",
        "dtree_grid = GridSearchCV(dtree, dtree_param_grid, cv=5, verbose=1, n_jobs=-1)\n",
        "dtree_grid.fit(X_train, y_train)\n",
        "\n",
        "print(\"Best parameters for Decision Tree:\", dtree_grid.best_params_)\n",
        "\n",
        "# -- Test\n",
        "y_pred_dtree = dtree_grid.predict(X_test)\n",
        "accuracy_dtree = accuracy_score(y_test, y_pred_dtree)\n",
        "print(\"Decision Tree Accuracy:\", accuracy_dtree)\n",
        "print(\"Confusion Matrix:\\n\", confusion_matrix(y_test, y_pred_dtree))\n",
        "print(\"Classification Report:\\n\", classification_report(y_test, y_pred_dtree))\n"
      ]
    },
    {
      "cell_type": "code",
      "execution_count": 40,
      "metadata": {
        "colab": {
          "base_uri": "https://localhost:8080/"
        },
        "id": "qo1IhQtL5Dkb",
        "outputId": "9321e1b9-dd70-4577-ac8d-f578961d76d1"
      },
      "outputs": [
        {
          "name": "stdout",
          "output_type": "stream",
          "text": [
            "Fitting 5 folds for each of 60 candidates, totalling 300 fits\n",
            "Best parameters for Random Forest: {'max_depth': None, 'min_samples_split': 5, 'n_estimators': 150}\n",
            "Random Forest Accuracy: 0.900551724137931\n",
            "Confusion Matrix:\n",
            " [[1895  474]\n",
            " [ 247 4634]]\n",
            "Classification Report:\n",
            "               precision    recall  f1-score   support\n",
            "\n",
            "           0       0.88      0.80      0.84      2369\n",
            "           1       0.91      0.95      0.93      4881\n",
            "\n",
            "    accuracy                           0.90      7250\n",
            "   macro avg       0.90      0.87      0.88      7250\n",
            "weighted avg       0.90      0.90      0.90      7250\n",
            "\n"
          ]
        }
      ],
      "source": [
        "# Random Forest\n",
        "# -- Train\n",
        "rf_param_grid = {\n",
        "    'n_estimators': [10, 50, 100, 150, 300],\n",
        "    'max_depth': [3, 5, 10, None],\n",
        "    'min_samples_split': [2, 5, 10],\n",
        "    }\n",
        "rf = RandomForestClassifier(random_state=42)\n",
        "rf_grid = GridSearchCV(rf, rf_param_grid, cv=5, verbose=1, n_jobs=-1)\n",
        "rf_grid.fit(X_train, y_train)\n",
        "\n",
        "print(\"Best parameters for Random Forest:\", rf_grid.best_params_)\n",
        "\n",
        "# -- Test\n",
        "y_pred_rf = rf_grid.predict(X_test)\n",
        "accuracy_rf = accuracy_score(y_test, y_pred_rf)\n",
        "print(\"Random Forest Accuracy:\", accuracy_rf)\n",
        "print(\"Confusion Matrix:\\n\", confusion_matrix(y_test, y_pred_rf))\n",
        "print(\"Classification Report:\\n\", classification_report(y_test, y_pred_rf))\n"
      ]
    }
  ],
  "metadata": {
    "colab": {
      "provenance": []
    },
    "kernelspec": {
      "display_name": "Python 3",
      "name": "python3"
    },
    "language_info": {
      "codemirror_mode": {
        "name": "ipython",
        "version": 3
      },
      "file_extension": ".py",
      "mimetype": "text/x-python",
      "name": "python",
      "nbconvert_exporter": "python",
      "pygments_lexer": "ipython3",
      "version": "3.11.7"
    }
  },
  "nbformat": 4,
  "nbformat_minor": 0
}
