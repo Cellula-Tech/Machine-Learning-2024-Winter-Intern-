{
 "cells": [
  {
   "cell_type": "code",
   "execution_count": 1,
   "id": "8afb96c4-2623-4d9d-ada2-9a9fa79e650c",
   "metadata": {},
   "outputs": [
    {
     "name": "stdout",
     "output_type": "stream",
     "text": [
      "Index(['Booking_ID', 'number of adults', 'number of children',\n",
      "       'number of weekend nights', 'number of week nights', 'type of meal',\n",
      "       'car parking space', 'room type', 'lead time', 'market segment type',\n",
      "       'repeated', 'P-C', 'P-not-C', 'average price ', 'special requests',\n",
      "       'date of reservation', 'booking status'],\n",
      "      dtype='object')\n"
     ]
    }
   ],
   "source": [
    "import pandas as pd\n",
    "from sklearn.model_selection import train_test_split\n",
    "from sklearn.preprocessing import StandardScaler\n",
    "from sklearn.linear_model import LogisticRegression\n",
    "from sklearn.metrics import accuracy_score, classification_report\n",
    "from sklearn.model_selection import GridSearchCV\n",
    "from sklearn.ensemble import RandomForestClassifier\n",
    "# Step 1: Load Data\n",
    "file_path = r'C:\\Users\\LENOVO\\Downloads\\first_project.csv'\n",
    "df = pd.read_csv(file_path)\n",
    "\n",
    "# Check the columns to confirm the names are correct\n",
    "print(df.columns)\n"
   ]
  },
  {
   "cell_type": "code",
   "execution_count": 2,
   "id": "42e389c1-a1eb-4680-810f-6e62d9a562ac",
   "metadata": {},
   "outputs": [
    {
     "name": "stdout",
     "output_type": "stream",
     "text": [
      "Missing Values:\n",
      " Booking_ID                  0\n",
      "number of adults            0\n",
      "number of children          0\n",
      "number of weekend nights    0\n",
      "number of week nights       0\n",
      "type of meal                0\n",
      "car parking space           0\n",
      "room type                   0\n",
      "lead time                   0\n",
      "market segment type         0\n",
      "repeated                    0\n",
      "P-C                         0\n",
      "P-not-C                     0\n",
      "average price               0\n",
      "special requests            0\n",
      "date of reservation         0\n",
      "booking status              0\n",
      "dtype: int64\n",
      "\n",
      "Data Types:\n",
      " Booking_ID                   object\n",
      "number of adults              int64\n",
      "number of children            int64\n",
      "number of weekend nights      int64\n",
      "number of week nights         int64\n",
      "type of meal                 object\n",
      "car parking space             int64\n",
      "room type                    object\n",
      "lead time                     int64\n",
      "market segment type          object\n",
      "repeated                      int64\n",
      "P-C                           int64\n",
      "P-not-C                       int64\n",
      "average price               float64\n",
      "special requests              int64\n",
      "date of reservation          object\n",
      "booking status               object\n",
      "dtype: object\n",
      "\n",
      "Data Preview:\n",
      "   Booking_ID  number of adults  number of children  number of weekend nights  \\\n",
      "0   INN00001                 1                   1                         2   \n",
      "1   INN00002                 1                   0                         1   \n",
      "2   INN00003                 2                   1                         1   \n",
      "3   INN00004                 1                   0                         0   \n",
      "4   INN00005                 1                   0                         1   \n",
      "\n",
      "   number of week nights  type of meal  car parking space    room type  \\\n",
      "0                      5   Meal Plan 1                  0  Room_Type 1   \n",
      "1                      3  Not Selected                  0  Room_Type 1   \n",
      "2                      3   Meal Plan 1                  0  Room_Type 1   \n",
      "3                      2   Meal Plan 1                  0  Room_Type 1   \n",
      "4                      2  Not Selected                  0  Room_Type 1   \n",
      "\n",
      "   lead time market segment type  repeated  P-C  P-not-C  average price  \\\n",
      "0        224             Offline         0    0        0          88.00   \n",
      "1          5              Online         0    0        0         106.68   \n",
      "2          1              Online         0    0        0          50.00   \n",
      "3        211              Online         0    0        0         100.00   \n",
      "4         48              Online         0    0        0          77.00   \n",
      "\n",
      "   special requests date of reservation booking status  \n",
      "0                 0           10/2/2015   Not_Canceled  \n",
      "1                 1           11/6/2018   Not_Canceled  \n",
      "2                 0           2/28/2018       Canceled  \n",
      "3                 1           5/20/2017       Canceled  \n",
      "4                 0           4/11/2018       Canceled  \n"
     ]
    }
   ],
   "source": [
    "# First thing the preprocessing\n",
    "# Check for missing values\n",
    "print(\"Missing Values:\\n\", df.isnull().sum())\n",
    "\n",
    "# Check data types\n",
    "print(\"\\nData Types:\\n\", df.dtypes)\n",
    "\n",
    "# Trim any whitespace from column names\n",
    "df.columns = df.columns.str.strip()\n",
    "\n",
    "# Print the first few rows to inspect the data\n",
    "print(\"\\nData Preview:\\n\", df.head())"
   ]
  },
  {
   "cell_type": "code",
   "execution_count": 3,
   "id": "6c9a5bd8-ab9d-4f4b-80d3-e868e094fe68",
   "metadata": {},
   "outputs": [
    {
     "name": "stdout",
     "output_type": "stream",
     "text": [
      "       number of adults  number of children  number of weekend nights  \\\n",
      "count           36285.0             36285.0              36285.000000   \n",
      "mean                2.0                 0.0                  0.810087   \n",
      "std                 0.0                 0.0                  0.867286   \n",
      "min                 2.0                 0.0                  0.000000   \n",
      "25%                 2.0                 0.0                  0.000000   \n",
      "50%                 2.0                 0.0                  1.000000   \n",
      "75%                 2.0                 0.0                  2.000000   \n",
      "max                 2.0                 0.0                  5.000000   \n",
      "\n",
      "       number of week nights  car parking space     lead time      repeated  \\\n",
      "count           36285.000000       36285.000000  36285.000000  36285.000000   \n",
      "mean                2.178145           0.030977     83.767893      0.025630   \n",
      "std                 1.290708           0.173258     81.662186      0.158032   \n",
      "min                 0.000000           0.000000      0.000000      0.000000   \n",
      "25%                 1.000000           0.000000     17.000000      0.000000   \n",
      "50%                 2.000000           0.000000     57.000000      0.000000   \n",
      "75%                 3.000000           0.000000    126.000000      0.000000   \n",
      "max                 6.000000           1.000000    289.500000      1.000000   \n",
      "\n",
      "                P-C       P-not-C  average price  special requests  \n",
      "count  36285.000000  36285.000000   36285.000000      36285.000000  \n",
      "mean       0.023343      0.153369     102.968399          0.619733  \n",
      "std        0.368281      1.753931      31.678904          0.786262  \n",
      "min        0.000000      0.000000      20.750000          0.000000  \n",
      "25%        0.000000      0.000000      80.300000          0.000000  \n",
      "50%        0.000000      0.000000      99.450000          0.000000  \n",
      "75%        0.000000      0.000000     120.000000          1.000000  \n",
      "max       13.000000     58.000000     179.550000          5.000000  \n"
     ]
    }
   ],
   "source": [
    "# Define a function to handle outliers using IQR\n",
    "def handle_outliers(df, column):\n",
    "    Q1 = df[column].quantile(0.25)\n",
    "    Q3 = df[column].quantile(0.75)\n",
    "    IQR = Q3 - Q1\n",
    "    lower_bound = Q1 - 1.5 * IQR\n",
    "    upper_bound = Q3 + 1.5 * IQR\n",
    "    df[column] = df[column].clip(lower_bound, upper_bound)\n",
    "    return df\n",
    "\n",
    "# Apply the function to numerical columns\n",
    "numerical_columns = ['number of adults', 'number of children', 'number of weekend nights', \n",
    "                     'number of week nights', 'lead time', 'average price']\n",
    "for col in numerical_columns:\n",
    "    df = handle_outliers(df, col)\n",
    "\n",
    "# Print to see if there were any changes\n",
    "print(df.describe())\n"
   ]
  },
  {
   "cell_type": "code",
   "execution_count": 4,
   "id": "c7aa7361-f7fe-4de1-9393-4607042fdec6",
   "metadata": {},
   "outputs": [
    {
     "name": "stderr",
     "output_type": "stream",
     "text": [
      "E:\\Data Science Software\\anaconda\\envs\\alx\\Lib\\site-packages\\seaborn\\matrix.py:260: FutureWarning: Format strings passed to MaskedConstant are ignored, but in future may error or produce different behavior\n",
      "  annotation = (\"{:\" + self.fmt + \"}\").format(val)\n"
     ]
    },
    {
     "data": {
      "image/png": "[encoded data removed]",
      "text/plain": [
       "<Figure size 1000x600 with 2 Axes>"
      ]
     },
     "metadata": {},
     "output_type": "display_data"
    }
   ],
   "source": [
    "import seaborn as sns\n",
    "import matplotlib.pyplot as plt\n",
    "\n",
    "# Select only the numerical columns for correlation\n",
    "numeric_df = df.select_dtypes(include=['float64', 'int64'])\n",
    "\n",
    "# Check correlation between numerical variables\n",
    "plt.figure(figsize=(10,6))\n",
    "sns.heatmap(numeric_df.corr(), annot=True, cmap='coolwarm')\n",
    "plt.show()\n",
    "\n",
    "# Feature Extraction (Example: Create a total nights feature) for simplifiying relationship and reducing noise\n",
    "df['total nights'] = df['number of weekend nights'] + df['number of week nights']\n",
    "\n",
    "# Drop irrelevant features\n",
    "df = df.drop(columns=['Booking_ID', 'date of reservation'])\n"
   ]
  },
  {
   "cell_type": "code",
   "execution_count": 5,
   "id": "73778eb3-cde4-46e9-a20e-bd6f6864f33d",
   "metadata": {},
   "outputs": [
    {
     "name": "stdout",
     "output_type": "stream",
     "text": [
      "Accuracy: 0.80\n",
      "              precision    recall  f1-score   support\n",
      "\n",
      "           0       0.74      0.62      0.68      3594\n",
      "           1       0.83      0.90      0.86      7292\n",
      "\n",
      "    accuracy                           0.80     10886\n",
      "   macro avg       0.79      0.76      0.77     10886\n",
      "weighted avg       0.80      0.80      0.80     10886\n",
      "\n"
     ]
    }
   ],
   "source": [
    "# Map the 'booking status' column to binary values: 'Not_Canceled' = 1, 'Canceled' = 0\n",
    "df['booking status'] = df['booking status'].map({'Not_Canceled': 1, 'Canceled': 0})\n",
    "\n",
    "# Step 2: One-Hot Encode Categorical Columns\n",
    "df = pd.get_dummies(df, columns=['type of meal', 'room type', 'market segment type'], drop_first=True)\n",
    "\n",
    "# Step 3: Handle Numeric Columns (Normalize)\n",
    "numeric_columns = ['number of adults', 'number of children', 'number of weekend nights', \n",
    "                   'number of week nights', 'lead time', 'average price', 'special requests']\n",
    "\n",
    "scaler = StandardScaler()\n",
    "df[numeric_columns] = scaler.fit_transform(df[numeric_columns])\n",
    "\n",
    "# Step 4: Train-Test Split\n",
    "X = df.drop(columns=['booking status'])  # Features\n",
    "y = df['booking status']                # Target\n",
    "\n",
    "# Split the dataset into training and testing sets\n",
    "X_train, X_test, y_train, y_test = train_test_split(X, y, test_size=0.3, random_state=42)\n",
    "\n",
    "# Step 5: Logistic Regression Model\n",
    "model = LogisticRegression(max_iter=1000)\n",
    "\n",
    "# Train the model\n",
    "model.fit(X_train, y_train)\n",
    "\n",
    "# Make predictions\n",
    "y_pred = model.predict(X_test)\n",
    "\n",
    "# Step 6: Accuracy Calculation\n",
    "accuracy = accuracy_score(y_test, y_pred)\n",
    "print(f'Accuracy: {accuracy:.2f}')\n",
    "\n",
    "# Print classification report\n",
    "print(classification_report(y_test, y_pred))\n"
   ]
  },
  {
   "cell_type": "code",
   "execution_count": 7,
   "id": "478eb282-e38a-4a5f-9955-197e5fd4fa4d",
   "metadata": {},
   "outputs": [
    {
     "name": "stdout",
     "output_type": "stream",
     "text": [
      "Fitting 5 folds for each of 81 candidates, totalling 405 fits\n"
     ]
    }
   ],
   "source": [
    "# Sample model: RandomForestClassifier\n",
    "rf_model = RandomForestClassifier()\n",
    "\n",
    "# Define the hyperparameters grid\n",
    "param_grid = {\n",
    "    'n_estimators': [100, 200, 300],\n",
    "    'max_depth': [10, 20, 30],\n",
    "    'min_samples_split': [2, 5, 10],\n",
    "    'min_samples_leaf': [1, 2, 4]\n",
    "}\n",
    "\n",
    "# Perform GridSearchCV\n",
    "grid_search = GridSearchCV(estimator=rf_model, param_grid=param_grid, cv=5, n_jobs=-1, verbose=2)\n",
    "grid_search.fit(X_train, y_train)\n",
    "\n",
    "# Best parameters and accuracy\n",
    "best_params = grid_search.best_params_\n",
    "best_accuracy = grid_search.best_score_"
   ]
  },
  {
   "cell_type": "code",
   "execution_count": 8,
   "id": "72403526-5769-449c-b097-cc7858b9a827",
   "metadata": {},
   "outputs": [],
   "source": [
    "from sklearn.feature_selection import RFE\n",
    "from sklearn.ensemble import RandomForestClassifier\n",
    "\n",
    "# Instantiate the model\n",
    "model = RandomForestClassifier()\n",
    "\n",
    "# Recursive Feature Elimination\n",
    "rfe = RFE(estimator=model, n_features_to_select=10)  # Select top 10 features\n",
    "rfe.fit(X_train, y_train)\n",
    "\n",
    "# Selected features\n",
    "selected_features = X_train.columns[rfe.support_]\n"
   ]
  },
  {
   "cell_type": "code",
   "execution_count": 9,
   "id": "4bb57d6c-4989-4055-b0c2-68f244cced50",
   "metadata": {},
   "outputs": [],
   "source": [
    "import pickle\n",
    "\n",
    "# Save the model\n",
    "with open('hotel_booking_model.pkl', 'wb') as file:\n",
    "    pickle.dump(grid_search.best_estimator_, file)\n",
    "\n",
    "# Load the model\n",
    "with open('hotel_booking_model.pkl', 'rb') as file:\n",
    "    loaded_model = pickle.load(file)\n"
   ]
  },
  {
   "cell_type": "code",
   "execution_count": 10,
   "id": "c3f9c0ae-484c-492d-b645-cc319c151085",
   "metadata": {},
   "outputs": [
    {
     "name": "stdout",
     "output_type": "stream",
     "text": [
      " * Serving Flask app '__main__'\n",
      " * Debug mode: on\n"
     ]
    },
    {
     "name": "stderr",
     "output_type": "stream",
     "text": [
      "WARNING: This is a development server. Do not use it in a production deployment. Use a production WSGI server instead.\n",
      " * Running on http://127.0.0.1:5000\n",
      "Press CTRL+C to quit\n",
      " * Restarting with stat\n"
     ]
    },
    {
     "ename": "SystemExit",
     "evalue": "1",
     "output_type": "error",
     "traceback": [
      "An exception has occurred, use %tb to see the full traceback.\n",
      "\u001b[1;31mSystemExit\u001b[0m\u001b[1;31m:\u001b[0m 1\n"
     ]
    },
    {
     "name": "stderr",
     "output_type": "stream",
     "text": [
      "C:\\Users\\LENOVO\\AppData\\Roaming\\Python\\Python312\\site-packages\\IPython\\core\\interactiveshell.py:3561: UserWarning: To exit: use 'exit', 'quit', or Ctrl-D.\n",
      "  warn(\"To exit: use 'exit', 'quit', or Ctrl-D.\", stacklevel=1)\n"
     ]
    }
   ],
   "source": [
    "from flask import Flask, request, jsonify\n",
    "import pickle\n",
    "\n",
    "app = Flask(__name__)\n",
    "\n",
    "# Load the pre-trained model\n",
    "with open('hotel_booking_model.pkl', 'rb') as file:\n",
    "    model = pickle.load(file)\n",
    "\n",
    "@app.route('/predict', methods=['POST'])\n",
    "def predict():\n",
    "    # Get the input data from the request\n",
    "    data = request.get_json(force=True)\n",
    "    \n",
    "    # Assume data is in the correct format\n",
    "    prediction = model.predict([list(data.values())])\n",
    "    \n",
    "    # Convert the prediction to a label\n",
    "    booking_status = 'Not Canceled' if prediction == 0 else 'Canceled'\n",
    "    \n",
    "    return jsonify({'booking_status': booking_status})\n",
    "\n",
    "if __name__ == '__main__':\n",
    "    app.run(debug=True)\n"
   ]
  }
 ],
 "metadata": {
  "kernelspec": {
   "display_name": "Python 3 (ipykernel)",
   "language": "python",
   "name": "python3"
  },
  "language_info": {
   "codemirror_mode": {
    "name": "ipython",
    "version": 3
   },
   "file_extension": ".py",
   "mimetype": "text/x-python",
   "name": "python",
   "nbconvert_exporter": "python",
   "pygments_lexer": "ipython3",
   "version": "3.12.2"
  }
 },
 "nbformat": 4,
 "nbformat_minor": 5
}
